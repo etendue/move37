{
 "cells": [
  {
   "cell_type": "code",
   "execution_count": 1,
   "metadata": {},
   "outputs": [],
   "source": [
    "import numpy as np\n",
    "import gym\n",
    "import matplotlib.pyplot as plt\n",
    "%matplotlib inline"
   ]
  },
  {
   "cell_type": "code",
   "execution_count": 2,
   "metadata": {},
   "outputs": [
    {
     "name": "stdout",
     "output_type": "stream",
     "text": [
      "\u001b[33mWARN: gym.spaces.Box autodetected dtype as <class 'numpy.float32'>. Please provide explicit dtype.\u001b[0m\n",
      "\u001b[33mWARN: gym.spaces.Box autodetected dtype as <class 'numpy.float32'>. Please provide explicit dtype.\u001b[0m\n"
     ]
    }
   ],
   "source": [
    "ENV_NAME = 'BipedalWalker-v2'\n",
    "env = gym.make(ENV_NAME)"
   ]
  },
  {
   "cell_type": "code",
   "execution_count": 3,
   "metadata": {},
   "outputs": [],
   "source": [
    "class Hp():\n",
    "    # Hyperparameters\n",
    "    def __init__(self,\n",
    "                 episode_length=2000,\n",
    "                 learning_rate=0.02,\n",
    "                 num_deltas=16,\n",
    "                 num_best_deltas=16,\n",
    "                 noise=0.03,\n",
    "                 seed=1,\n",
    "                 env_name='BipedalWalker-v2',\n",
    "                 record_every=50):\n",
    "        \n",
    "        self.episode_length = episode_length\n",
    "        self.learning_rate = learning_rate\n",
    "        self.num_deltas = num_deltas\n",
    "        self.num_best_deltas = num_best_deltas\n",
    "        assert self.num_best_deltas <= self.num_deltas\n",
    "        self.noise = noise\n",
    "        self.seed = seed\n",
    "        self.env_name = env_name\n",
    "        self.record_every = record_every"
   ]
  },
  {
   "cell_type": "code",
   "execution_count": 4,
   "metadata": {},
   "outputs": [],
   "source": [
    "class Normalizer():\n",
    "    # Normalizes the inputs\n",
    "    def __init__(self, nb_inputs):\n",
    "        self.n = 0\n",
    "        self.M = np.zeros(nb_inputs)\n",
    "        self.S = np.zeros(nb_inputs)\n",
    "\n",
    "    def update(self, x):\n",
    "        self.n += 1.0\n",
    "        M_ = self.M + (x - self.M) / self.n\n",
    "        self.S += (x - self.M) * (x - M_)\n",
    "        self.M = M_\n",
    "        \n",
    "        return self.normalized_x(x)\n",
    "    \n",
    "    @property\n",
    "    def mean(self):\n",
    "        return self.M\n",
    "    \n",
    "    @property\n",
    "    def var(self):\n",
    "        return self.S/self.n if self.n >1 else 0\n",
    "    \n",
    "    @property\n",
    "    def std(self):\n",
    "        return np.sqrt(self.var)\n",
    "\n",
    "    def normalized_x(self, x):\n",
    "        return (x - self.M) / (self.std.clip(min=1e-2))"
   ]
  },
  {
   "cell_type": "code",
   "execution_count": 6,
   "metadata": {},
   "outputs": [],
   "source": [
    "class PerceptronModel():\n",
    "    def __init__(self, x_size, action_size, learning_rate = 0.1, number_of_deltas=10):\n",
    "        self.W = np.zeros((action_size, x_size))\n",
    "        self.learning_rate = learning_rate\n",
    "        self.number_of_deltas=1\n",
    "\n",
    "    def predict(self,x):\n",
    "        return self.W.dot(x)\n",
    "\n",
    "    def sample_deltas(self):\n",
    "        return np.random.randn(self.number_of_deltas,*self.W.shape)\n",
    "\n",
    "    def update(self, rollouts, sigma_rewards):\n",
    "        # sigma_rewards is the standard deviation of the rewards\n",
    "        r_pos, r_neg,deltas = rollouts\n",
    "        step = np.average((r_pos-r_net),axis=0,weights=deltas)\n",
    "        self.W += self.learning_rate * step/sigma_rewards"
   ]
  },
  {
   "cell_type": "code",
   "execution_count": 3,
   "metadata": {},
   "outputs": [
    {
     "data": {
      "text/plain": [
       "array([ 2.74745352e-03, -9.96619696e-06,  7.75269549e-04, -1.59999323e-02,\n",
       "        9.20130238e-02, -1.02308916e-03,  8.60239461e-01,  2.15908761e-03,\n",
       "        1.00000000e+00,  3.24187465e-02, -1.02302199e-03,  8.53788137e-01,\n",
       "        7.23540550e-04,  1.00000000e+00,  4.40814018e-01,  4.45820123e-01,\n",
       "        4.61422771e-01,  4.89550203e-01,  5.34102798e-01,  6.02461040e-01,\n",
       "        7.09148884e-01,  8.85931849e-01,  1.00000000e+00,  1.00000000e+00])"
      ]
     },
     "execution_count": 3,
     "metadata": {},
     "output_type": "execute_result"
    }
   ],
   "source": [
    "class ArsTrainer():\n",
    "    def __init__(self,\n",
    "                 hp=None,\n",
    "                 input_size=None,\n",
    "                 output_size=None,\n",
    "                 normalizer=None,\n",
    "                 model=None,\n",
    "                 monitor_dir=None):\n",
    "\n",
    "        self.hp = hp or Hp()\n",
    "        np.random.seed(self.hp.seed)\n",
    "        self.env = gym.make(self.hp.env_name)\n",
    "        if monitor_dir is not None:\n",
    "            should_record = lambda i: self.record_video\n",
    "            self.env = wrappers.Monitor(self.env, monitor_dir, video_callable=should_record, force=True)\n",
    "        self.hp.episode_length = self.env.spec.timestep_limit or self.hp.episode_length\n",
    "        self.input_size = input_size or self.env.observation_space.shape[0]\n",
    "        self.output_size = output_size or self.env.action_space.shape[0]\n",
    "        self.normalizer = normalizer or Normalizer(self.input_size)\n",
    "        self.model = model or PerceptronModel(self.input_size, self.output_size, self.hp)\n",
    "        self.record_video = False\n",
    "\n",
    "    # Evaluate the model \n",
    "    def evaluate(self):\n",
    "        state = self.env.reset()\n",
    "        done = False\n",
    "        num_plays = 0.0\n",
    "        sum_rewards = 0.0\n",
    "        while not done and num_plays < self.hp.episode_length:\n",
    "            normalized_state = self.normalizer.normalized_x(state)\n",
    "            action = self.model.predict(state, delta)\n",
    "            state, reward, done, _ = self.env.step(action)\n",
    "            reward = max(min(reward, 1), -1)\n",
    "            sum_rewards += reward\n",
    "            num_plays += 1\n",
    "        return sum_rewards\n",
    "    \n",
    "    # Explore the model\n",
    "    def explore(self, delta=None):\n",
    "        \n",
    "        # explore positive direction\n",
    "        state = self.env.reset()\n",
    "        done = False\n",
    "        num_plays = 0.0\n",
    "        sum_rewards_pos = 0.0\n",
    "        while not done and num_plays < self.hp.episode_length:\n",
    "            normalized_state = self.normalizer.update(state)\n",
    "            action = self.model.predict(normalized_state) + delta * self.hp.noise\n",
    "            state, reward, done, _ = self.env.step(action)\n",
    "            reward = max(min(reward, 1), -1)\n",
    "            sum_rewards_pos += reward\n",
    "            num_plays += 1\n",
    "        \n",
    "        # explore negative direction\n",
    "        state = self.env.reset()\n",
    "        done = False\n",
    "        num_plays = 0.0\n",
    "        sum_rewards_neg = 0.0\n",
    "        while not done and num_plays < self.hp.episode_length:\n",
    "            normalized_state = self.normalizer.update(state)\n",
    "            action = self.model.predict(normalized_state) - delta * self.hp.noise\n",
    "            state, reward, done, _ = self.env.step(action)\n",
    "            sum_rewards_neg += np.clip(reward,a_min=-1,a_max=1)\n",
    "            num_plays += 1\n",
    "        \n",
    "        return sum_rewards_pos,sum_rewards_neg\n",
    "\n",
    "    def train(self):\n",
    "        for eposide in range(self.hp.episode_length):\n",
    "            # initialize the random noise deltas and the positive/negative rewards\n",
    "            deltas = np.random.randn(self.hp.num_deltas,*self.model.W.shape)\n",
    "            positive_rewards = np.zeros(self.hp.num_deltas,dtype=np.float)\n",
    "            negative_rewards = np.zeros(self.hp.num_deltas,dtype=np.float)\n",
    "\n",
    "            # play an episode each with positive deltas and negative deltas, collect rewards\n",
    "            # TODO: paralellize the exploration\n",
    "            for i in range(self.hp.num_deltas):\n",
    "                positive_rewards[i],negative_rewards[i] = self.explore(delta=deltas[i])\n",
    "                \n",
    "            # Compute the standard deviation of all rewards\n",
    "            reward_std = np.hstack([positive_rewards, negative_rewards]).std()\n",
    "            \n",
    "            # Sort the rollouts by the max(r_pos, r_neg) and select the deltas with best rewards\n",
    "            reward_maximum = np.maximum(positive_rewards,negative_rewards)\n",
    "            idx = np.argsort(reward_maximum)\n",
    "            n = self.hp.num_best_deltas\n",
    "            rollouts = positive_rewards[idx[-n:]],negative_rewards[idx[-n:]],deltas[idx[-n:]]\n",
    "            self.model.update(rollouts,reward_std)\n",
    "            \n",
    "        \n",
    "            # Only record video during evaluation, every n steps\n",
    "            if eposide % self.hp.record_every == 0:\n",
    "                self.record_video = True\n",
    "            # Play an episode with the new weights and print the score\n",
    "            reward_evaluation = self.evaluate()\n",
    "            print('Eposiode: ', eposide, 'Reward: ', reward_evaluation)\n",
    "            self.record_video = False\n",
    "\n",
    "\n",
    "def mkdir(base, name):\n",
    "    path = os.path.join(base, name)\n",
    "    if not os.path.exists(path):\n",
    "        os.makedirs(path)\n",
    "    return path\n",
    "\n",
    "# Main code\n",
    "if __name__ == '__main__':\n",
    "    videos_dir = mkdir('.', 'videos')\n",
    "    monitor_dir = mkdir(videos_dir, ENV_NAME)\n",
    "    hp = Hp(seed=1946, env_name=ENV_NAME)\n",
    "    trainer = ArsTrainer(hp=hp, monitor_dir=monitor_dir)\n",
    "    trainer.train()"
   ]
  },
  {
   "cell_type": "code",
   "execution_count": 24,
   "metadata": {},
   "outputs": [],
   "source": [
    "class SampleNormalizer():\n",
    "    # Normalizes the inputs\n",
    "    def __init__(self, nb_inputs):\n",
    "        self.n = 0\n",
    "        self.mu = np.zeros(nb_inputs)\n",
    "        self.S = np.zeros(nb_inputs)\n",
    "\n",
    "    def update(self, x):\n",
    "        self.n += 1.0\n",
    "        mu_ = self.mu + (x - self.mu) / self.n\n",
    "        self.S += (x - self.mu) * (x - mu_)\n",
    "        self.mu = mu_\n",
    "\n",
    "        return self.normalized_x(x)\n",
    "\n",
    "    @property\n",
    "    def mean(self):\n",
    "        return self.mu\n",
    "\n",
    "    @property\n",
    "    def var(self):\n",
    "        return self.S / self.n if self.n > 1 else 0\n",
    "\n",
    "    @property\n",
    "    def std(self):\n",
    "        return np.sqrt(self.var)\n",
    "\n",
    "    def normalized_x(self, x):\n",
    "        return (x - self.mu) / (self.std.clip(min=1e-2))"
   ]
  },
  {
   "cell_type": "code",
   "execution_count": 61,
   "metadata": {},
   "outputs": [],
   "source": [
    "sampler = SampleNormalizer(2)"
   ]
  },
  {
   "cell_type": "code",
   "execution_count": 72,
   "metadata": {},
   "outputs": [],
   "source": [
    "a = [sampler.update([np.random.normal(15,3),np.random.normal(-100,20)]) for _ in range(1000)]"
   ]
  },
  {
   "cell_type": "code",
   "execution_count": 73,
   "metadata": {},
   "outputs": [
    {
     "data": {
      "text/plain": [
       "(array([  15.00099827, -100.0643635 ]),\n",
       " array([ 2.93004598, 19.89156019]),\n",
       " array([  8.58516946, 395.67416661]))"
      ]
     },
     "execution_count": 73,
     "metadata": {},
     "output_type": "execute_result"
    }
   ],
   "source": [
    "sampler.mean,sampler.std,sampler.var"
   ]
  },
  {
   "cell_type": "code",
   "execution_count": 78,
   "metadata": {},
   "outputs": [],
   "source": [
    "class PerceptronModel():\n",
    "    def __init__(self, x_size, action_size, learning_rate = 0.1):\n",
    "        self.W = np.zeros((action_size, x_size))\n",
    "        self.learning_rate = learning_rate\n",
    "\n",
    "    def predict(self,x):\n",
    "        return self.W.dot(x)\n",
    "\n",
    "    def update(self, rollouts, reward_std):\n",
    "        # sigma_rewards is the standard deviation of the rewards\n",
    "        r_pos, r_neg, deltas = rollouts\n",
    "        step = np.average(deltas,axis=0, weights=(r_pos-r_neg))\n",
    "        self.W += self.learning_rate * step/reward_std"
   ]
  },
  {
   "cell_type": "code",
   "execution_count": 79,
   "metadata": {},
   "outputs": [],
   "source": [
    "model = PerceptronModel(5,3)"
   ]
  },
  {
   "cell_type": "code",
   "execution_count": 98,
   "metadata": {},
   "outputs": [
    {
     "data": {
      "text/plain": [
       "array([-7.14644458, -3.99051403,  1.59424655])"
      ]
     },
     "execution_count": 98,
     "metadata": {},
     "output_type": "execute_result"
    }
   ],
   "source": [
    "model.predict(np.array([1,2,3,4,5]))"
   ]
  },
  {
   "cell_type": "code",
   "execution_count": 96,
   "metadata": {},
   "outputs": [],
   "source": [
    "rollouts = np.random.randn(10),np.random.randn(10),np.random.randn(10,3,5)"
   ]
  },
  {
   "cell_type": "code",
   "execution_count": 92,
   "metadata": {},
   "outputs": [
    {
     "data": {
      "text/plain": [
       "array([[-2.02016838, -0.3448374 , -1.20884074],\n",
       "       [-2.87217114, -1.98339329,  0.36971208],\n",
       "       [-2.3147062 , -1.77905332, -1.76713383],\n",
       "       [-1.70359096, -2.21546607,  0.9282644 ],\n",
       "       [-4.44653005, -6.61979176, -4.68115183]])"
      ]
     },
     "execution_count": 92,
     "metadata": {},
     "output_type": "execute_result"
    }
   ],
   "source": [
    "np.average(rollouts[2],axis=0,weights=r_delta)"
   ]
  },
  {
   "cell_type": "code",
   "execution_count": 90,
   "metadata": {},
   "outputs": [],
   "source": [
    "r_delta= rollouts[0] - rollouts[1]"
   ]
  },
  {
   "cell_type": "code",
   "execution_count": 97,
   "metadata": {},
   "outputs": [],
   "source": [
    "model.update(rollouts,0.1)"
   ]
  },
  {
   "cell_type": "code",
   "execution_count": 101,
   "metadata": {},
   "outputs": [
    {
     "data": {
      "text/plain": [
       "(24, Box(24,))"
      ]
     },
     "execution_count": 101,
     "metadata": {},
     "output_type": "execute_result"
    }
   ],
   "source": [
    "env.observation_space.shape[0],env.observation_space"
   ]
  },
  {
   "cell_type": "code",
   "execution_count": 104,
   "metadata": {},
   "outputs": [
    {
     "data": {
      "text/plain": [
       "-1"
      ]
     },
     "execution_count": 104,
     "metadata": {},
     "output_type": "execute_result"
    }
   ],
   "source": [
    "max(min(-3,1),-1)"
   ]
  },
  {
   "cell_type": "code",
   "execution_count": 105,
   "metadata": {},
   "outputs": [
    {
     "data": {
      "text/plain": [
       "-1"
      ]
     },
     "execution_count": 105,
     "metadata": {},
     "output_type": "execute_result"
    }
   ],
   "source": [
    "np.clip(-3,-1,1)"
   ]
  },
  {
   "cell_type": "code",
   "execution_count": null,
   "metadata": {},
   "outputs": [],
   "source": []
  }
 ],
 "metadata": {
  "kernelspec": {
   "display_name": "Python 3",
   "language": "python",
   "name": "python3"
  },
  "language_info": {
   "codemirror_mode": {
    "name": "ipython",
    "version": 3
   },
   "file_extension": ".py",
   "mimetype": "text/x-python",
   "name": "python",
   "nbconvert_exporter": "python",
   "pygments_lexer": "ipython3",
   "version": "3.6.5"
  }
 },
 "nbformat": 4,
 "nbformat_minor": 2
}
