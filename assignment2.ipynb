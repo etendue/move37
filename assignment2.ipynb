{
 "cells": [
  {
   "cell_type": "code",
   "execution_count": 1,
   "metadata": {},
   "outputs": [],
   "source": [
    "import numpy as np\n",
    "import gym\n",
    "from tqdm import tqdm\n",
    "import matplotlib.pyplot as plt"
   ]
  },
  {
   "cell_type": "code",
   "execution_count": 18,
   "metadata": {},
   "outputs": [],
   "source": [
    "env = gym.make('FrozenLake-v0')"
   ]
  },
  {
   "cell_type": "code",
   "execution_count": 19,
   "metadata": {},
   "outputs": [],
   "source": [
    "start = env.reset()"
   ]
  },
  {
   "cell_type": "code",
   "execution_count": 28,
   "metadata": {},
   "outputs": [
    {
     "name": "stdout",
     "output_type": "stream",
     "text": [
      "\n",
      "\u001b[41mS\u001b[0mFFF\n",
      "FHFH\n",
      "FFFH\n",
      "HFFG\n"
     ]
    }
   ],
   "source": [
    "env.render(mode='rgb_array')"
   ]
  },
  {
   "cell_type": "code",
   "execution_count": 45,
   "metadata": {},
   "outputs": [
    {
     "data": {
      "text/plain": [
       "{0: [(0.3333333333333333, 1, 0.0, False),\n",
       "  (0.3333333333333333, 0, 0.0, False),\n",
       "  (0.3333333333333333, 5, 0.0, True)],\n",
       " 1: [(0.3333333333333333, 0, 0.0, False),\n",
       "  (0.3333333333333333, 5, 0.0, True),\n",
       "  (0.3333333333333333, 2, 0.0, False)],\n",
       " 2: [(0.3333333333333333, 5, 0.0, True),\n",
       "  (0.3333333333333333, 2, 0.0, False),\n",
       "  (0.3333333333333333, 1, 0.0, False)],\n",
       " 3: [(0.3333333333333333, 2, 0.0, False),\n",
       "  (0.3333333333333333, 1, 0.0, False),\n",
       "  (0.3333333333333333, 0, 0.0, False)]}"
      ]
     },
     "execution_count": 45,
     "metadata": {},
     "output_type": "execute_result"
    }
   ],
   "source": [
    "env.env.P[1]"
   ]
  },
  {
   "cell_type": "code",
   "execution_count": 116,
   "metadata": {},
   "outputs": [],
   "source": [
    "def Policy_Iteration(env,gamma = 0.9, eps = 1.0e-8, maxIterations = 1000):\n",
    "    #random policy\n",
    "    policy = np.random.choice(env.env.nA,size=env.env.nS)\n",
    "    Vs = np.zeros(env.env.nS)\n",
    "    Vs_isFinal = np.zeros(env.env.nS,dtype=np.uint8)\n",
    "    new_Vs = np.zeros(env.env.nS)\n",
    "    \n",
    "    \n",
    "    for i in range(maxIterations):\n",
    "        # policy evaluation, evaluation old_policy\n",
    "        j = 0\n",
    "        while True:\n",
    "            for s in range(env.env.nS):\n",
    "                if Vs_isFinal[s] == 1:\n",
    "                    policy[s] = 0\n",
    "                    Vs[s] = 0.0\n",
    "                    new_Vs[s] = 0.0\n",
    "                else:\n",
    "                    a = policy[s]\n",
    "                    sigma = 0.0\n",
    "                    for p,s_next,r,done in env.env.P[s][a]:\n",
    "                        if done:\n",
    "                            Vs_isFinal[s_next] = 1\n",
    "                            Vs[s_next] = 0.0\n",
    "                        \n",
    "                        sigma += p*(r + gamma*Vs[s_next])\n",
    "                    \n",
    "                    new_Vs[s] = sigma\n",
    "                    \n",
    "            j = j+1\n",
    "            if np.all(np.fabs(new_Vs - Vs) < eps):\n",
    "                #print(\"after {} integration convergent\".format(j))\n",
    "                break\n",
    "            Vs = np.copy(new_Vs)\n",
    "        \n",
    "        # policy improvement\n",
    "        # get new policy\n",
    "        new_policy = np.copy(policy)\n",
    "        \n",
    "        for s in range(env.env.nS):\n",
    "            q_a_max = float('-inf')\n",
    "            for a in env.env.P[s]: \n",
    "                q_a = np.sum([p*(r+gamma *Vs[s_next]) for p,s_next,r,_ in env.env.P[s][a]])\n",
    "                if q_a > q_a_max:\n",
    "                    q_a_max = q_a\n",
    "                    new_policy[s] = a\n",
    "        \n",
    "        #print(\"____{} Iteration____\".format(i))\n",
    "        #print(\"Old Policy:\")\n",
    "        \n",
    "        #print(policy.reshape(4,4))\n",
    "        \n",
    "        #print(\"New policy:\")\n",
    "        #print(new_policy.reshape(4,4))\n",
    "        \n",
    "        #print(\"V:\")\n",
    "        #print(Vs.reshape(4,4))\n",
    "        \n",
    "        \n",
    "        if np.all(new_policy == policy):\n",
    "            print(\"Policy Converged at {} Iteration\".format(i))\n",
    "            break\n",
    "        \n",
    "         \n",
    "        policy = new_policy\n",
    "    \n",
    "    return new_policy,Vs\n",
    "        "
   ]
  },
  {
   "cell_type": "code",
   "execution_count": 117,
   "metadata": {},
   "outputs": [],
   "source": [
    "def evaluate_Policy(env,policy,gamma=0.9,repeats = 100):\n",
    "    rewards =[]\n",
    "    for i in tqdm(range(repeats)):\n",
    "        s = env.reset()\n",
    "        discount = 1.0\n",
    "        total_r = 0.0\n",
    "        while True:\n",
    "            s,r,done,_ = env.step(int(policy[s]))\n",
    "            total_r += discount * r\n",
    "            if done:\n",
    "                break\n",
    "            \n",
    "            discount *=gamma\n",
    "            \n",
    "        rewards.append(total_r)\n",
    "    \n",
    "    return np.mean(np.array(rewards))"
   ]
  },
  {
   "cell_type": "code",
   "execution_count": 135,
   "metadata": {},
   "outputs": [
    {
     "name": "stderr",
     "output_type": "stream",
     "text": [
      "100%|██████████| 100/100 [00:00<00:00, 1081.23it/s]"
     ]
    },
    {
     "name": "stdout",
     "output_type": "stream",
     "text": [
      "Policy Converged at 1 Iteration\n",
      "  (Down)\n",
      "SFFF\n",
      "FHFH\n",
      "FFFH\n",
      "HFF\u001b[41mG\u001b[0m\n",
      "Average_Reward:0.08058812892607178\n",
      "Value Tabels:\n",
      " [[0.06889083 0.06141451 0.07440971 0.05580727]\n",
      " [0.09185447 0.         0.11220818 0.        ]\n",
      " [0.1454363  0.24749692 0.29961757 0.        ]\n",
      " [0.         0.37993587 0.63902013 0.        ]]\n",
      "Poliy_Table: \n",
      " [[0 3 0 3]\n",
      " [0 0 0 0]\n",
      " [3 1 0 0]\n",
      " [0 2 1 0]]\n"
     ]
    },
    {
     "name": "stderr",
     "output_type": "stream",
     "text": [
      "\n"
     ]
    }
   ],
   "source": [
    "policy,Vs = Policy_Iteration(env)\n",
    "average_reward = evaluate_Policy(env,policy)\n",
    "env.render()\n",
    "print(\"Average_Reward:{}\".format(average_reward))\n",
    "print(\"Value Tabels:\\n {}\".format(Vs.reshape(4,4)))\n",
    "print(\"Poliy_Table: \\n {}\".format(policy.reshape(4,4)))"
   ]
  },
  {
   "cell_type": "code",
   "execution_count": null,
   "metadata": {},
   "outputs": [],
   "source": []
  }
 ],
 "metadata": {
  "kernelspec": {
   "display_name": "Python 3",
   "language": "python",
   "name": "python3"
  },
  "language_info": {
   "codemirror_mode": {
    "name": "ipython",
    "version": 3
   },
   "file_extension": ".py",
   "mimetype": "text/x-python",
   "name": "python",
   "nbconvert_exporter": "python",
   "pygments_lexer": "ipython3",
   "version": "3.6.5"
  }
 },
 "nbformat": 4,
 "nbformat_minor": 2
}
