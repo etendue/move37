{
 "cells": [
  {
   "cell_type": "code",
   "execution_count": 1,
   "metadata": {},
   "outputs": [],
   "source": [
    "import numpy as np\n",
    "import gym\n",
    "from tqdm import tqdm\n",
    "import matplotlib.pyplot as plt"
   ]
  },
  {
   "cell_type": "code",
   "execution_count": 4,
   "metadata": {},
   "outputs": [],
   "source": [
    "env = gym.make('FrozenLake-v0')"
   ]
  },
  {
   "cell_type": "code",
   "execution_count": 5,
   "metadata": {},
   "outputs": [],
   "source": [
    "start = env.reset()"
   ]
  },
  {
   "cell_type": "code",
   "execution_count": 9,
   "metadata": {},
   "outputs": [
    {
     "name": "stdout",
     "output_type": "stream",
     "text": [
      "\n",
      "\u001b[41mS\u001b[0mFFF\n",
      "FHFH\n",
      "FFFH\n",
      "HFFG\n"
     ]
    },
    {
     "data": {
      "text/plain": [
       "<ipykernel.iostream.OutStream at 0x7f94fd0b6358>"
      ]
     },
     "execution_count": 9,
     "metadata": {},
     "output_type": "execute_result"
    }
   ],
   "source": [
    "env.render(mode='rgb_array')"
   ]
  },
  {
   "cell_type": "code",
   "execution_count": 22,
   "metadata": {},
   "outputs": [],
   "source": [
    "def Policy_Iteration(env,gamma = 0.9, eps = 1.0e-5, maxIterations = 1000):\n",
    "    #random policy\n",
    "    policy = np.random.choice(env.env.nA,size=env.env.nS)\n",
    "    Vs = np.zeros(env.env.nS)\n",
    "    new_Vs = np.zeros(env.env.nS)\n",
    "    \n",
    "    \n",
    "    for i in range(maxIterations):\n",
    "        # policy evaluation, evaluation old_policy\n",
    "        while True:\n",
    "            for s in range(env.env.nS):\n",
    "                a = policy[s]\n",
    "                new_Vs[s] = np.sum([p * (r + gamma * Vs[s_next]) for p,s_next,r,_ in env.env.P[s][a]])\n",
    "            if np.all(np.fabs(new_Vs - Vs) < eps):\n",
    "                break\n",
    "            Vs = np.copy(new_Vs)\n",
    "        \n",
    "        # policy improvement\n",
    "        # get new policy\n",
    "        new_policy = np.copy(policy)\n",
    "        for s in range(env.env.nS):\n",
    "            \n",
    "            q_as = [r+gamma *Vs[s_next] for _,s_next,r,_ in env.env.P[s][a]]\n",
    "            new_policy[s] = np.argmax(np.array(q_as))\n",
    "        \n",
    "        if np.all(new_policy == policy):\n",
    "            print(\"Policy Converged at {} Iteration\".format(i))\n",
    "            break\n",
    "        \n",
    "        old_policy = new_policy\n",
    "    \n",
    "    return new_policy\n",
    "        "
   ]
  },
  {
   "cell_type": "code",
   "execution_count": 23,
   "metadata": {},
   "outputs": [],
   "source": [
    "def evaluate_Policy(env,policy,gamma=0.9,repeats = 100):\n",
    "    rewards =[]\n",
    "    for i in tqdm(range(repeats)):\n",
    "        s = env.reset()\n",
    "        discount = 1.0\n",
    "        total_r = 0.0\n",
    "        while True:\n",
    "            s,r,done,_ = env.step(int(policy[s]))\n",
    "            total_r += discount * r\n",
    "            if done:\n",
    "                break\n",
    "            \n",
    "            discount *=gamma\n",
    "            \n",
    "        rewards.append(total_r)\n",
    "    \n",
    "    return np.mean(np.array(rewards))"
   ]
  },
  {
   "cell_type": "code",
   "execution_count": 24,
   "metadata": {},
   "outputs": [
    {
     "name": "stderr",
     "output_type": "stream",
     "text": [
      "100%|██████████| 100/100 [00:00<00:00, 2535.21it/s]\n"
     ]
    }
   ],
   "source": [
    "policy = Policy_Iteration(env)\n",
    "average_reward = evaluate_Policy(env,policy)"
   ]
  },
  {
   "cell_type": "code",
   "execution_count": 25,
   "metadata": {},
   "outputs": [
    {
     "data": {
      "text/plain": [
       "0.0"
      ]
     },
     "execution_count": 25,
     "metadata": {},
     "output_type": "execute_result"
    }
   ],
   "source": [
    "average_reward"
   ]
  },
  {
   "cell_type": "code",
   "execution_count": 21,
   "metadata": {},
   "outputs": [
    {
     "data": {
      "text/plain": [
       "array([0, 0, 0, 0, 1, 0, 1, 0, 2, 1, 1, 0, 0, 2, 2, 0])"
      ]
     },
     "execution_count": 21,
     "metadata": {},
     "output_type": "execute_result"
    }
   ],
   "source": [
    "policy"
   ]
  },
  {
   "cell_type": "code",
   "execution_count": null,
   "metadata": {},
   "outputs": [],
   "source": []
  }
 ],
 "metadata": {
  "kernelspec": {
   "display_name": "Python 3",
   "language": "python",
   "name": "python3"
  },
  "language_info": {
   "codemirror_mode": {
    "name": "ipython",
    "version": 3
   },
   "file_extension": ".py",
   "mimetype": "text/x-python",
   "name": "python",
   "nbconvert_exporter": "python",
   "pygments_lexer": "ipython3",
   "version": "3.6.5"
  }
 },
 "nbformat": 4,
 "nbformat_minor": 2
}
