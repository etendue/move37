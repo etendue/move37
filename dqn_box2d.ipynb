{
 "cells": [
  {
   "cell_type": "markdown",
   "metadata": {},
   "source": [
    "# Deep Q-Network implementation\n",
    "\n",
    "This notebook shamelessly demands you to implement a DQN - an approximate q-learning algorithm with experience replay and target networks - and see if it works any better this way."
   ]
  },
  {
   "cell_type": "code",
   "execution_count": 1,
   "metadata": {},
   "outputs": [],
   "source": [
    "import gym\n",
    "import numpy as np\n",
    "import pandas as pd\n",
    "import matplotlib.pyplot as plt\n",
    "import os\n",
    "%matplotlib inline"
   ]
  },
  {
   "cell_type": "code",
   "execution_count": 2,
   "metadata": {},
   "outputs": [
    {
     "data": {
      "text/plain": [
       "<matplotlib.image.AxesImage at 0x7ff36353de10>"
      ]
     },
     "execution_count": 2,
     "metadata": {},
     "output_type": "execute_result"
    },
    {
     "data": {
      "image/png": "[encoded data removed]",
      "text/plain": [
       "<Figure size 432x288 with 1 Axes>"
      ]
     },
     "metadata": {},
     "output_type": "display_data"
    }
   ],
   "source": [
    "env = gym.make(\"LunarLander-v2\")\n",
    "env.reset()\n",
    "img = env.render(mode='rgb_array')\n",
    "env.close()\n",
    "plt.imshow(img)"
   ]
  },
  {
   "cell_type": "code",
   "execution_count": 3,
   "metadata": {},
   "outputs": [],
   "source": [
    "import torch, torch.nn as nn\n",
    "import torch.nn.functional as F"
   ]
  },
  {
   "cell_type": "code",
   "execution_count": 4,
   "metadata": {},
   "outputs": [],
   "source": [
    "class DQNAgent():\n",
    "    def __init__(self, state_shape, n_actions,model, epsilon=0):\n",
    "        \"\"\"A simple DQN agent\"\"\"\n",
    "        self.epsilon = epsilon\n",
    "        self.n_actions = n_actions\n",
    "        self.state_shape= state_shape\n",
    "        self.model = model\n",
    "\n",
    "    def get_qvalues(self, state):\n",
    "        \"\"\"\n",
    "        state is observation from gym environment\n",
    "        pytorch needs [batch,s], so add a batch dim in state\n",
    "        \"\"\"\n",
    "        device = torch.device(\"cuda\" if torch.cuda.is_available() else \"cpu\")\n",
    "        s = torch.from_numpy(np.expand_dims(state,axis=0))\n",
    "        with torch.no_grad():\n",
    "            q = self.model.forward(s)\n",
    "        return np.squeeze(q.data.numpy(),axis=0)\n",
    "    \n",
    "    def sample_action(self, qvalues):\n",
    "        \"\"\"pick actions given qvalues. Uses epsilon-greedy exploration strategy. \"\"\"\n",
    "        \n",
    "        p = np.ones(self.n_actions,dtype=np.float) * self.epsilon/self.n_actions\n",
    "        p[qvalues.argmax(axis=-1)] += 1-self.epsilon\n",
    "        action = np.random.choice(n_actions, p=p)\n",
    "        return action"
   ]
  },
  {
   "cell_type": "markdown",
   "metadata": {},
   "source": [
    "### Building a network\n",
    "\n",
    "We now need to build a neural network that can map images to state q-values. This network will be called on every agent's step"
   ]
  },
  {
   "cell_type": "code",
   "execution_count": 14,
   "metadata": {},
   "outputs": [],
   "source": [
    "class MLModel(nn.Module):\n",
    "    def __init__(self,input_size,output_size):\n",
    "        super(MLModel, self).__init__()\n",
    "        self.layer1 = nn.Linear(input_size,64)\n",
    "        self.layer2 = nn.Linear(64,128)\n",
    "        self.output = nn.Linear(128,output_size)\n",
    "\n",
    "    def forward(self, x):\n",
    "        x = F.relu(self.layer1(x))\n",
    "        x = F.relu(self.layer2(x))\n",
    "        return self.output(x)"
   ]
  },
  {
   "cell_type": "markdown",
   "metadata": {},
   "source": [
    "### Construct train & evaluation \n",
    "\n"
   ]
  },
  {
   "cell_type": "markdown",
   "metadata": {},
   "source": [
    "Now let's try out our agent to see if it raises any errors."
   ]
  },
  {
   "cell_type": "code",
   "execution_count": 6,
   "metadata": {},
   "outputs": [],
   "source": [
    "def evaluate(env, agent, n_games=1, greedy=True):\n",
    "    \"\"\" Plays n_games full games. If greedy, picks actions as argmax(qvalues). Returns mean reward. \"\"\"\n",
    "    t_max = env.spec.timestep_limit or 10000\n",
    "    rewards = []\n",
    "    old_epsilon = agent.epsilon\n",
    "    if greedy:\n",
    "        agent.epsilon = 0.0\n",
    "    \n",
    "    for _ in range(n_games):\n",
    "        s = env.reset()\n",
    "        reward = 0\n",
    "        for _ in range(t_max):\n",
    "            qvalues = agent.get_qvalues(s)\n",
    "            action = agent.sample_action(qvalues)\n",
    "            s, r, done, _ = env.step(action)\n",
    "            reward += r\n",
    "            if done: break\n",
    "                \n",
    "        rewards.append(reward)\n",
    "    \n",
    "    agent.epsilon = old_epsilon\n",
    "    \n",
    "    return np.mean(rewards)"
   ]
  },
  {
   "cell_type": "markdown",
   "metadata": {},
   "source": [
    "### Experience replay\n",
    "#### The interface:\n",
    "* `exp_replay.push(state, action, reward, next_state, done)` - saves (s,a,r,s',done) tuple into the buffer\n",
    "* `exp_replay.sample(batch_size)` - returns observations, actions, rewards, next_observations and is_done for `batch_size` random samples.\n",
    "* `len(exp_replay)` - returns number of elements stored in replay buffer."
   ]
  },
  {
   "cell_type": "code",
   "execution_count": 7,
   "metadata": {},
   "outputs": [],
   "source": [
    "import random\n",
    "from collections import namedtuple\n",
    "\n",
    "Transition = namedtuple('Transition',\n",
    "                        ('state', 'action', 'reward','next_state','done'))\n",
    "\n",
    "class ReplayMemory(object):\n",
    "\n",
    "    def __init__(self, capacity):\n",
    "        self.capacity = capacity\n",
    "        self.memory = []\n",
    "        self.position = 0\n",
    "\n",
    "    def push(self, *args):\n",
    "        \"\"\"Saves a transition.\"\"\"\n",
    "        if len(self.memory) < self.capacity:\n",
    "            self.memory.append(None)\n",
    "        self.memory[self.position] = Transition(*args)\n",
    "        self.position = (self.position + 1) % self.capacity\n",
    "\n",
    "    def sample(self, batch_size):\n",
    "        return random.sample(self.memory, batch_size)\n",
    "    \n",
    "    def head(self):\n",
    "        return self.memory[-1]\n",
    "\n",
    "    def __len__(self):\n",
    "        return len(self.memory)"
   ]
  },
  {
   "cell_type": "markdown",
   "metadata": {},
   "source": [
    "### Learning with... Q-learning"
   ]
  },
  {
   "cell_type": "markdown",
   "metadata": {},
   "source": [
    "Compute Q-learning TD error:\n",
    "\n",
    "$$ L = { 1 \\over N} \\sum_i [ Q_{policy_\\theta}(s,a) - Q_{reference}(s,a) ] ^2 $$\n",
    "\n",
    "With Q-reference defined as\n",
    "\n",
    "$$ Q_{reference}(s,a) = r(s,a) + \\gamma \\cdot max_{a'} Q_{target}(s', a') $$\n",
    "\n",
    "Where\n",
    "* $Q_{target}(s',a')$ denotes q-value of next state and next action predicted by __target_network__\n",
    "* $s, a, r, s'$ are current state, action, reward and next state respectively\n",
    "* $\\gamma$ is a discount factor defined two cells above.\n",
    "\n",
    "\n",
    "__Note 1:__ there's an example input below. Feel free to experiment with it before you write the function.\n",
    "__Note 2:__ compute_td_loss is a source of 99% of bugs in this homework. If reward doesn't improve, it often helps to go through it line by line [with a rubber duck](https://rubberduckdebugging.com/)."
   ]
  },
  {
   "cell_type": "code",
   "execution_count": 8,
   "metadata": {},
   "outputs": [],
   "source": [
    "def td_loss(target_net,policy_net,states,actions,rewards,next_states,is_dones,GAMMA = 0.99):\n",
    "    s_ = torch.as_tensor(states)\n",
    "    a_ = torch.as_tensor(actions)\n",
    "    r_ = torch.as_tensor(rewards)\n",
    "    ns_= torch.as_tensor(next_states)\n",
    "    d_= torch.as_tensor(is_dones)\n",
    "    not_d_ = 1 - d_\n",
    "    \n",
    "    #predict Q values\n",
    "    predict_q_ = policy_net(s_).gather(dim=1,index=a_.view(-1,1)).squeeze()\n",
    "    \n",
    "    #predict Next QValues with target network\n",
    "    with torch.no_grad():\n",
    "        predict_next_q_ = target_net(s_)\n",
    "        predict_v_ = torch.max(predict_next_q_,dim=1)[0] * not_d_\n",
    "        reference_q_ = r_ + GAMMA * predict_v_\n",
    "    \n",
    "    loss = F.mse_loss(predict_q_,reference_q_)\n",
    "    \n",
    "    return loss"
   ]
  },
  {
   "cell_type": "markdown",
   "metadata": {},
   "source": [
    "### Main loop\n",
    "\n",
    "It's time to put everything together and see if it learns anything."
   ]
  },
  {
   "cell_type": "code",
   "execution_count": 9,
   "metadata": {},
   "outputs": [],
   "source": [
    "from tqdm import trange\n",
    "from IPython.display import clear_output\n",
    "import matplotlib.pyplot as plt\n",
    "%matplotlib inline\n",
    "\n",
    "mean_rw_history = []\n",
    "td_loss_history = []\n",
    "td_loss_m_history = []\n",
    "BATCH_SIZE=64\n",
    "TIME_STEPS=10**5*2\n",
    "LEARNING_RATE= 0.0001"
   ]
  },
  {
   "cell_type": "code",
   "execution_count": 10,
   "metadata": {},
   "outputs": [],
   "source": [
    "device = torch.device(\"cuda\" if torch.cuda.is_available() else \"cpu\")\n",
    "state_dim,n_actions = env.observation_space.shape[0],env.action_space.n"
   ]
  },
  {
   "cell_type": "code",
   "execution_count": 15,
   "metadata": {},
   "outputs": [],
   "source": [
    "policy_net = MLModel(state_dim,n_actions).to(device)\n",
    "target_net = MLModel(state_dim,n_actions).to(device)\n",
    "target_net.load_state_dict(policy_net.state_dict())\n",
    "agent = DQNAgent(state_dim, n_actions,policy_net, epsilon=0.5)\n",
    "exp_replay = ReplayMemory(10**4)"
   ]
  },
  {
   "cell_type": "code",
   "execution_count": 16,
   "metadata": {},
   "outputs": [
    {
     "data": {
      "text/plain": [
       "-572.3400165838933"
      ]
     },
     "execution_count": 16,
     "metadata": {},
     "output_type": "execute_result"
    }
   ],
   "source": [
    "evaluate(env, agent, n_games=3)"
   ]
  },
  {
   "cell_type": "code",
   "execution_count": 95,
   "metadata": {},
   "outputs": [],
   "source": [
    "agent.epsilon=0.5\n",
    "LEARNING_RATE= 0.0001"
   ]
  },
  {
   "cell_type": "code",
   "execution_count": 96,
   "metadata": {
    "scrolled": false
   },
   "outputs": [
    {
     "name": "stdout",
     "output_type": "stream",
     "text": [
      "buffer size = 10000, epsilon = 0.01000\n"
     ]
    },
    {
     "data": {
      "image/png": "[encoded data removed]",
      "text/plain": [
       "<Figure size 864x288 with 2 Axes>"
      ]
     },
     "metadata": {},
     "output_type": "display_data"
    },
    {
     "name": "stderr",
     "output_type": "stream",
     "text": [
      "100%|██████████| 200000/200000 [22:28<00:00, 148.37it/s]\n"
     ]
    }
   ],
   "source": [
    "optimizer = torch.optim.Adam(policy_net.parameters(),lr= LEARNING_RATE)\n",
    "\n",
    "# for training\n",
    "env = gym.make(\"LunarLander-v2\")\n",
    "# for evaluation\n",
    "eval_env = gym.make(\"LunarLander-v2\")\n",
    "s = env.reset()\n",
    "for i in trange(TIME_STEPS):\n",
    "    \n",
    "    # play\n",
    "    q_values = agent.get_qvalues(s)\n",
    "    a = agent.sample_action(q_values)\n",
    "    s_next,r,done, _ = env.step(a)\n",
    "    \n",
    "    exp_replay.push(s,a,r,s_next,done)\n",
    "    \n",
    "    s = s_next\n",
    "    \n",
    "    if done:\n",
    "        s = env.reset()\n",
    "    \n",
    "    if len(exp_replay) < BATCH_SIZE:\n",
    "        continue\n",
    "    \n",
    "    # train\n",
    "    # < sample data from experience replay>\n",
    "    transitions = exp_replay.sample(BATCH_SIZE)\n",
    "    # Transpose the batch (see http://stackoverflow.com/a/19343/3343043 for\n",
    "    # detailed explanation).\n",
    "    batch = Transition(*zip(*transitions))\n",
    "   \n",
    "    \n",
    "    # loss = < compute TD loss >\n",
    "    nd_states= np.array(batch.state,dtype=np.float32)\n",
    "    nd_actions= np.array(batch.action,dtype=np.int64)\n",
    "    nd_rewards = np.array(batch.reward,dtype=np.float32)\n",
    "    nd_next_states = np.array(batch.next_state,dtype=np.float32)\n",
    "    nd_is_dones = np.array(batch.done).astype(np.float32)\n",
    "\n",
    "    loss = td_loss(target_net,policy_net,nd_states,nd_actions,nd_rewards,nd_next_states,nd_is_dones)\n",
    "    \n",
    "    #< minimize loss by gradient descent >\n",
    "    optimizer.zero_grad()\n",
    "    loss.backward()\n",
    "    optimizer.step()\n",
    "    \n",
    "    td_loss_history.append(loss.data.numpy())\n",
    "    \n",
    "    count = min(len(td_loss_history),100)\n",
    "    td_loss_m_history.append(np.mean(td_loss_history[-count:]))\n",
    "    \n",
    "    # adjust agent parameters\n",
    "    if i % 500 == 0:\n",
    "        agent.epsilon = max(agent.epsilon * 0.99, 0.01)\n",
    "        \n",
    "        mean_rw_history.append(evaluate(eval_env, agent, n_games=3))\n",
    "        \n",
    "        #Load agent weights into target_network\n",
    "        target_net.load_state_dict(policy_net.state_dict())\n",
    "        \n",
    "    \n",
    "    #if i % 100 == 0:\n",
    "        \n",
    "        clear_output(True)\n",
    "        print(\"buffer size = %i, epsilon = %.5f\" % (len(exp_replay), agent.epsilon))\n",
    "        plt.figure(figsize=[12, 4])        \n",
    "        plt.subplot(1,2,1)\n",
    "        plt.title(\"mean reward per game\")\n",
    "        plt.plot(mean_rw_history)\n",
    "        plt.grid()\n",
    "\n",
    "        plt.subplot(1,2,2)\n",
    "        plt.title(\"TD loss history (moving average)\")\n",
    "        plt.plot(td_loss_m_history)\n",
    "        plt.grid()\n",
    "        plt.show()\n",
    "        \n",
    "        "
   ]
  },
  {
   "cell_type": "code",
   "execution_count": 18,
   "metadata": {},
   "outputs": [],
   "source": [
    "torch.save(target_net.state_dict(), \"checkpoint.pt\")"
   ]
  },
  {
   "cell_type": "code",
   "execution_count": null,
   "metadata": {},
   "outputs": [],
   "source": [
    "policy_net.load_state_dict(torch.load(\"checkpoint.pt\"))"
   ]
  },
  {
   "cell_type": "code",
   "execution_count": 94,
   "metadata": {},
   "outputs": [
    {
     "data": {
      "text/plain": [
       "-343.0006086398042"
      ]
     },
     "execution_count": 94,
     "metadata": {},
     "output_type": "execute_result"
    }
   ],
   "source": [
    "evaluate(eval_env, agent, n_games=1)"
   ]
  },
  {
   "cell_type": "code",
   "execution_count": 28,
   "metadata": {},
   "outputs": [],
   "source": [
    "s = eval_env.reset()"
   ]
  },
  {
   "cell_type": "code",
   "execution_count": 52,
   "metadata": {},
   "outputs": [],
   "source": [
    "q_values=agent.get_qvalues(s)"
   ]
  },
  {
   "cell_type": "code",
   "execution_count": 50,
   "metadata": {},
   "outputs": [
    {
     "data": {
      "text/plain": [
       "3"
      ]
     },
     "execution_count": 50,
     "metadata": {},
     "output_type": "execute_result"
    }
   ],
   "source": [
    "agent.sample_action(q_values)"
   ]
  },
  {
   "cell_type": "code",
   "execution_count": 51,
   "metadata": {},
   "outputs": [],
   "source": [
    "s,r,done,_ = eval_env.step(3)"
   ]
  },
  {
   "cell_type": "code",
   "execution_count": 80,
   "metadata": {},
   "outputs": [],
   "source": [
    "def evaluate_(env, agent, n_games=1, greedy=True):\n",
    "    \"\"\" Plays n_games full games. If greedy, picks actions as argmax(qvalues). Returns mean reward. \"\"\"\n",
    "    t_max = env.spec.timestep_limit or 10000\n",
    "    rewards = []\n",
    "    old_epsilon = agent.epsilon\n",
    "    actions = []\n",
    "    q_values = []\n",
    "    if greedy:\n",
    "        agent.epsilon = 0.0\n",
    "    \n",
    "    for _ in range(n_games):\n",
    "        s = env.reset()\n",
    "        reward = 0\n",
    "        for _ in range(t_max):\n",
    "            qvalues = agent.get_qvalues(s)\n",
    "            action = agent.sample_action(qvalues)\n",
    "            actions.append(action)\n",
    "            s, r, done, _ = env.step(action)\n",
    "            reward += r\n",
    "            rewards.append(r)\n",
    "            q_values.append(qvalues)\n",
    "            if done: break\n",
    "                \n",
    "        #rewards.append(reward)\n",
    "    \n",
    "    agent.epsilon = old_epsilon\n",
    "    \n",
    "    return rewards,actions,q_values"
   ]
  },
  {
   "cell_type": "code",
   "execution_count": 89,
   "metadata": {},
   "outputs": [],
   "source": [
    "agent.model = target_net"
   ]
  },
  {
   "cell_type": "code",
   "execution_count": 90,
   "metadata": {},
   "outputs": [],
   "source": [
    "r,actions,qs=evaluate_(eval_env, agent, n_games=1)"
   ]
  },
  {
   "cell_type": "markdown",
   "metadata": {},
   "source": [
    "### Prioritized Replay Memory\n"
   ]
  },
  {
   "cell_type": "code",
   "execution_count": null,
   "metadata": {},
   "outputs": [],
   "source": [
    "from replay_buffer_buffer_bufferay_buffer import PrioritizedReplayBuffer"
   ]
  },
  {
   "cell_type": "code",
   "execution_count": null,
   "metadata": {},
   "outputs": [],
   "source": [
    "optimizer = torch.optim.Adam(policy_net.parameters())\n",
    "exp_replay = PrioritizedReplayBuffer(10**4,alpha = 0.5)\n",
    "# for training\n",
    "env = gym.make(\"LunarLander-v2\")\n",
    "# for evaluation\n",
    "eval_env = gym.make(\"LunarLander-v2\")\n",
    "s = env.reset()\n",
    "for i in trange(TIME_STEPS):\n",
    "    \n",
    "    # play\n",
    "    q_values = agent.get_qvalues(s)\n",
    "    a = agent.sample_action(q_values)\n",
    "    s_next,r,done, _ = env.step(a)\n",
    "    \n",
    "    exp_replay.push(s,a,r,s_next,done)\n",
    "    \n",
    "    s = s_next\n",
    "    \n",
    "    if done:\n",
    "        s = env.reset()\n",
    "    \n",
    "    if len(exp_replay) < BATCH_SIZE:\n",
    "        continue\n",
    "    \n",
    "    # train\n",
    "    # < sample data from experience replay>\n",
    "    nd_states,nd_actions,nd_rewards,nd_next_states,nd_is_dones,_,_ = exp_replay.sample(BATCH_SIZE,beta=0.5)\n",
    "\n",
    "    # loss = < compute TD loss >\n",
    "\n",
    "\n",
    "    loss = td_loss(target_net,policy_net,nd_states,nd_actions,nd_rewards,nd_next_states,nd_is_dones)\n",
    "    \n",
    "    #< minimize loss by gradient descent >\n",
    "    optimizer.zero_grad()\n",
    "    loss.backward()\n",
    "    optimizer.step()\n",
    "    \n",
    "    td_loss_history.append(loss.data.numpy())\n",
    "    \n",
    "    count = min(len(td_loss_history),100)\n",
    "    td_loss_m_history.append(np.mean(td_loss_history[-count:]))\n",
    "    \n",
    "    # adjust agent parameters\n",
    "    if i % 500 == 0:\n",
    "        agent.epsilon = max(agent.epsilon * 0.99, 0.01)\n",
    "        \n",
    "        mean_rw_history.append(evaluate(eval_env, agent, n_games=3))\n",
    "        \n",
    "        #Load agent weights into target_network\n",
    "        target_net.load_state_dict(policy_net.state_dict())\n",
    "        \n",
    "    \n",
    "    #if i % 100 == 0:\n",
    "        \n",
    "        clear_output(True)\n",
    "        print(\"buffer size = %i, epsilon = %.5f\" % (len(exp_replay), agent.epsilon))\n",
    "        plt.figure(figsize=[12, 4])        \n",
    "        plt.subplot(1,2,1)\n",
    "        plt.title(\"mean reward per game\")\n",
    "        plt.plot(mean_rw_history)\n",
    "        plt.grid()\n",
    "\n",
    "        plt.subplot(1,2,2)\n",
    "        plt.title(\"TD loss history (moving average)\")\n",
    "        plt.plot(td_loss_m_history)\n",
    "        plt.grid()\n",
    "        plt.show()\n",
    "        \n",
    "        "
   ]
  },
  {
   "cell_type": "markdown",
   "metadata": {},
   "source": [
    "__ How to interpret plots: __\n",
    "\n",
    "\n",
    "This aint no supervised learning so don't expect anything to improve monotonously. \n",
    "* __ TD loss __ is the MSE between agent's current Q-values and target Q-values. It may slowly increase or decrease, it's ok. The \"not ok\" behavior includes going NaN or stayng at exactly zero before agent has perfect performance.\n",
    "* __ mean reward__ is the expected sum of r(s,a) agent gets over the full game session. It will oscillate, but on average it should get higher over time (after a few thousand iterations...). \n",
    " * In basic q-learning implementation it takes 5-10k steps to \"warm up\" agent before it starts to get better.\n",
    "* __ buffer size__ - this one is simple. It should go up and cap at max size.\n",
    "* __ epsilon__ - agent's willingness to explore. If you see that agent's already at 0.01 epsilon before it's average reward is above 0 - __ it means you need to increase epsilon__. Set it back to some 0.2 - 0.5 and decrease the pace at which it goes down.\n",
    "* Also please ignore first 100-200 steps of each plot - they're just oscillations because of the way moving average works.\n",
    "\n",
    "At first your agent will lose quickly. Then it will learn to suck less and at least hit the ball a few times before it loses. Finally it will learn to actually score points.\n",
    "\n",
    "__Training will take time.__ A lot of it actually. An optimistic estimate is to say it's gonna start winning (average reward > 10) after 20k steps. \n",
    "\n",
    "But hey, long training time isn't _that_ bad:\n",
    "![img](https://github.com/yandexdataschool/Practical_RL/raw/master/yet_another_week/_resource/training.png)\n"
   ]
  },
  {
   "cell_type": "markdown",
   "metadata": {},
   "source": [
    "### Video"
   ]
  },
  {
   "cell_type": "code",
   "execution_count": null,
   "metadata": {},
   "outputs": [],
   "source": [
    "agent.epsilon=0 # Don't forget to reset epsilon back to previous value if you want to go on training"
   ]
  },
  {
   "cell_type": "code",
   "execution_count": null,
   "metadata": {
    "scrolled": true
   },
   "outputs": [],
   "source": [
    "#record sessions\n",
    "import gym.wrappers\n",
    "env_monitor = gym.wrappers.Monitor(make_env(),directory=\"videos\",force=True)\n",
    "sessions = [evaluate(env_monitor, agent, n_games=1) for _ in range(100)]\n",
    "env_monitor.close()"
   ]
  },
  {
   "cell_type": "code",
   "execution_count": null,
   "metadata": {},
   "outputs": [],
   "source": [
    "#show video\n",
    "from IPython.display import HTML\n",
    "import os\n",
    "\n",
    "video_names = list(filter(lambda s:s.endswith(\".mp4\"),os.listdir(\"./videos/\")))\n",
    "\n",
    "HTML(\"\"\"\n",
    "<video width=\"640\" height=\"480\" controls>\n",
    "  <source src=\"{}\" type=\"video/mp4\">\n",
    "</video>\n",
    "\"\"\".format(\"./videos/\"+video_names[-1])) #this may or may not be _last_ video. Try other indices"
   ]
  },
  {
   "cell_type": "markdown",
   "metadata": {},
   "source": [
    "## Bonus I (2+ pts)\n",
    "\n",
    "Implement and train double q-learning.\n",
    "\n",
    "This task contains of\n",
    "* Implementing __double q-learning__ or __dueling q-learning__ or both (see tips below)\n",
    "* Training a network till convergence\n",
    "  * Full points will be awarded if your network gets average score of >=10 (see \"evaluating results\")\n",
    "  * Higher score = more points as usual\n",
    "  * If you're running out of time, it's okay to submit a solution that hasn't converged yet and updating it when it converges. _Lateness penalty will not increase for second submission_, so submitting first one in time gets you no penalty.\n",
    "\n",
    "\n",
    "#### Tips:\n",
    "* Implementing __double q-learning__ shouldn't be a problem if you've already have target networks in place.\n",
    "  * You will probably need `tf.argmax` to select best actions\n",
    "  * Here's an original [article](https://arxiv.org/abs/1509.06461)\n",
    "\n",
    "* __Dueling__ architecture is also quite straightforward if you have standard DQN.\n",
    "  * You will need to change network architecture, namely the q-values layer\n",
    "  * It must now contain two heads: V(s) and A(s,a), both dense layers\n",
    "  * You should then add them up via elemwise sum layer.\n",
    "  * Here's an [article](https://arxiv.org/pdf/1511.06581.pdf)"
   ]
  },
  {
   "cell_type": "markdown",
   "metadata": {},
   "source": [
    "## Bonus II (5+ pts): Prioritized experience replay\n",
    "\n",
    "In this section, you're invited to implement prioritized experience replay\n",
    "\n",
    "* You will probably need to provide a custom data structure\n",
    "* Once pool.update is called, collect the pool.experience_replay.observations, actions, rewards and is_alive and store them in your data structure\n",
    "* You can now sample such transitions in proportion to the error (see [article](https://arxiv.org/abs/1511.05952)) for training.\n",
    "\n",
    "It's probably more convenient to explicitly declare inputs for \"sample observations\", \"sample actions\" and so on to plug them into q-learning.\n",
    "\n",
    "Prioritized (and even normal) experience replay should greatly reduce amount of game sessions you need to play in order to achieve good performance. \n",
    "\n",
    "While it's effect on runtime is limited for atari, more complicated envs (further in the course) will certainly benefit for it.\n",
    "\n",
    "Prioritized experience replay only supports off-policy algorithms, so pls enforce `n_steps=1` in your q-learning reference computation (default is 10)."
   ]
  },
  {
   "cell_type": "code",
   "execution_count": null,
   "metadata": {},
   "outputs": [],
   "source": []
  }
 ],
 "metadata": {
  "anaconda-cloud": {},
  "kernelspec": {
   "display_name": "Python 3",
   "language": "python",
   "name": "python3"
  },
  "language_info": {
   "codemirror_mode": {
    "name": "ipython",
    "version": 3
   },
   "file_extension": ".py",
   "mimetype": "text/x-python",
   "name": "python",
   "nbconvert_exporter": "python",
   "pygments_lexer": "ipython3",
   "version": "3.6.5"
  }
 },
 "nbformat": 4,
 "nbformat_minor": 1
}
