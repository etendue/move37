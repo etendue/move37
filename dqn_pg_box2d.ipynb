{
 "cells": [
  {
   "cell_type": "markdown",
   "metadata": {},
   "source": [
    "# Deep Q-Network implementation\n",
    "\n",
    "This notebook shamelessly demands you to implement a DQN - an approximate q-learning algorithm with experience replay and target networks - and see if it works any better this way."
   ]
  },
  {
   "cell_type": "code",
   "execution_count": 1,
   "metadata": {},
   "outputs": [],
   "source": [
    "import gym\n",
    "import numpy as np\n",
    "import matplotlib.pyplot as plt\n",
    "import os\n",
    "%matplotlib inline"
   ]
  },
  {
   "cell_type": "code",
   "execution_count": 2,
   "metadata": {},
   "outputs": [
    {
     "data": {
      "text/plain": [
       "<matplotlib.image.AxesImage at 0x7fc92238ff60>"
      ]
     },
     "execution_count": 2,
     "metadata": {},
     "output_type": "execute_result"
    },
    {
     "data": {
      "image/png": "[encoded data removed]",
      "text/plain": [
       "<Figure size 432x288 with 1 Axes>"
      ]
     },
     "metadata": {},
     "output_type": "display_data"
    }
   ],
   "source": [
    "env = gym.make(\"LunarLander-v2\")\n",
    "env.reset()\n",
    "img = env.render(mode='rgb_array')\n",
    "env.close()\n",
    "plt.imshow(img)"
   ]
  },
  {
   "cell_type": "code",
   "execution_count": 2,
   "metadata": {},
   "outputs": [],
   "source": [
    "import torch, torch.nn as nn\n",
    "import torch.nn.functional as F"
   ]
  },
  {
   "cell_type": "code",
   "execution_count": 4,
   "metadata": {},
   "outputs": [],
   "source": [
    "class DQNAgent():\n",
    "    def __init__(self, state_shape, n_actions,model, epsilon=0):\n",
    "        \"\"\"A simple DQN agent\"\"\"\n",
    "        self.epsilon = epsilon\n",
    "        self.n_actions = n_actions\n",
    "        self.state_shape= state_shape\n",
    "        self.model = model\n",
    "\n",
    "    def get_qvalues(self, state):\n",
    "        \"\"\"\n",
    "        state is observation from gym environment\n",
    "        pytorch needs [batch,s], so add a batch dim in state\n",
    "        \"\"\"\n",
    "        device = torch.device(\"cuda\" if torch.cuda.is_available() else \"cpu\")\n",
    "        s = torch.from_numpy(np.expand_dims(state,axis=0)).to(device)\n",
    "        with torch.no_grad():\n",
    "            q = self.model.forward(s)\n",
    "        return np.squeeze(q.cpu().data.numpy(),axis=0)\n",
    "    \n",
    "    def get_state_action(self, state):\n",
    "        \"\"\"pick actions given qvalues. Uses epsilon-greedy exploration strategy. \"\"\"\n",
    "        action = self.get_qvalues(state).argmax(axis=-1)\n",
    "        if self.epsilon > 0. and random.random()<eps:\n",
    "            action = np.random.choice(n_actions)\n",
    "            \n",
    "        return action\n",
    "    \n",
    "    def get_action(self,state):\n",
    "        \"\"\"interface for Agent\"\"\"\n",
    "        return get_state_action(state)"
   ]
  },
  {
   "cell_type": "markdown",
   "metadata": {},
   "source": [
    "### Building a network\n",
    "\n",
    "We now need to build a neural network that can map images to state q-values. This network will be called on every agent's step"
   ]
  },
  {
   "cell_type": "code",
   "execution_count": 16,
   "metadata": {},
   "outputs": [],
   "source": [
    "class MLModel(nn.Module):\n",
    "    def __init__(self,input_size,output_size,n_l1 = 64, n_l2 = 64):\n",
    "        super(MLModel, self).__init__()\n",
    "        self.input_size = input_size\n",
    "        self.output_size = output_size\n",
    "        self.layer1 = nn.Linear(input_size,n_l1)\n",
    "        self.layer2 = nn.Linear(n_l1,n_l2)\n",
    "        self.output = nn.Linear(n_l2,output_size)\n",
    "        \n",
    "\n",
    "    def forward(self, x):\n",
    "        x = F.relu(self.layer1(x))\n",
    "        x = F.relu(self.layer2(x))\n",
    "        return self.output(x)\n",
    "    \n",
    "    @property\n",
    "    def genome(self):\n",
    "        return torch.cat((self.layer1.weight.view(-1),self.layer1.bias,\\\n",
    "                                 self.layer2.weight.view(-1),self.layer2.bias,\\\n",
    "                                self.output.weight.view(-1),self.output.bias))\n",
    "    \n",
    "    def update_genome(self,genes):\n",
    "        #calculate index of genes\n",
    "        w1 = self.layer1.weight.numel()\n",
    "        b1 = self.layer1.bias.numel() +w1\n",
    "        w2 = self.layer2.weight.numel() +b1\n",
    "        b2 = self.layer2.bias.numel() + w2\n",
    "        w3 = self.output.weight.numel()+b2\n",
    "        b3 = self.output.bias.numel() +w3\n",
    "        \n",
    "        self.layer1.weight.data = genes[:w1].view(self.layer1.weight.shape)\n",
    "        self.layer1.bias.data = genes[w1:b1].view(self.layer1.bias.shape)\n",
    "        self.layer2.weight.data = genes[b1:w2].view(self.layer2.weight.shape)\n",
    "        self.layer2.bias.data = genes[w2:b2].view(self.layer2.bias.shape)\n",
    "        self.output.weight.data = genes[b2:w3].view(self.output.weight.shape)\n",
    "        self.output.bias.data = genes[w3:b3].view(self.output.bias.shape)\n",
    "        "
   ]
  },
  {
   "cell_type": "markdown",
   "metadata": {},
   "source": [
    "### Construct train & evaluation \n",
    "\n"
   ]
  },
  {
   "cell_type": "markdown",
   "metadata": {},
   "source": [
    "Now let's try out our agent to see if it raises any errors."
   ]
  },
  {
   "cell_type": "code",
   "execution_count": 3,
   "metadata": {},
   "outputs": [],
   "source": [
    "import time\n",
    "\n",
    "def evaluate(env, agent, n_games=1,render=False):\n",
    "    \"\"\" Plays n_games full games. If greedy, picks actions as argmax(qvalues). Returns mean reward. \"\"\"\n",
    "    t_max = env.spec.timestep_limit or 10000\n",
    "    rewards = []\n",
    "    \n",
    "    for _ in range(n_games):\n",
    "        s = env.reset()\n",
    "        reward = 0\n",
    "        for _ in range(t_max):\n",
    "            action = agent.get_action(s)\n",
    "            s, r, done, _ = env.step(action)\n",
    "            if render:\n",
    "                env.render()\n",
    "                time.sleep (50.0 / 1000.0);\n",
    "                \n",
    "            reward += r\n",
    "            if done: break\n",
    "                \n",
    "        rewards.append(reward)\n",
    "    \n",
    "    if render:\n",
    "        env.close()\n",
    "    \n",
    "    return np.mean(rewards)"
   ]
  },
  {
   "cell_type": "markdown",
   "metadata": {},
   "source": [
    "### Experience replay\n",
    "#### The interface:\n",
    "* `exp_replay.push(state, action, reward, next_state, done)` - saves (s,a,r,s',done) tuple into the buffer\n",
    "* `exp_replay.sample(batch_size)` - returns observations, actions, rewards, next_observations and is_done for `batch_size` random samples.\n",
    "* `len(exp_replay)` - returns number of elements stored in replay buffer."
   ]
  },
  {
   "cell_type": "code",
   "execution_count": 7,
   "metadata": {},
   "outputs": [],
   "source": [
    "import random\n",
    "from collections import namedtuple\n",
    "\n",
    "Transition = namedtuple('Transition',\n",
    "                        ('state', 'action', 'reward','next_state','done'))\n",
    "\n",
    "class ReplayMemory(object):\n",
    "\n",
    "    def __init__(self, capacity):\n",
    "        self.capacity = capacity\n",
    "        self.memory = []\n",
    "        self.position = 0\n",
    "\n",
    "    def push(self, transition):\n",
    "        \"\"\"Saves a transition.\"\"\"\n",
    "        if len(self.memory) < self.capacity:\n",
    "            self.memory.append(None)\n",
    "        self.memory[self.position] = transition\n",
    "        self.position = (self.position + 1) % self.capacity\n",
    "\n",
    "    def sample(self, batch_size):\n",
    "        return random.sample(self.memory, batch_size)\n",
    "    \n",
    "    def head(self):\n",
    "        return self.memory[-1]\n",
    "\n",
    "    def __len__(self):\n",
    "        return len(self.memory)"
   ]
  },
  {
   "cell_type": "markdown",
   "metadata": {},
   "source": [
    "### Learning with... Q-learning"
   ]
  },
  {
   "cell_type": "markdown",
   "metadata": {},
   "source": [
    "Compute Q-learning TD error:\n",
    "\n",
    "$$ L = { 1 \\over N} \\sum_i [ Q_{policy_\\theta}(s,a) - Q_{reference}(s,a) ] ^2 $$\n",
    "\n",
    "With Q-reference defined as\n",
    "\n",
    "$$ Q_{reference}(s,a) = r(s,a) + \\gamma \\cdot max_{a'} Q_{target}(s', a') $$\n",
    "\n",
    "Where\n",
    "* $Q_{target}(s',a')$ denotes q-value of next state and next action predicted by __target_network__\n",
    "* $s, a, r, s'$ are current state, action, reward and next state respectively\n",
    "* $\\gamma$ is a discount factor defined two cells above."
   ]
  },
  {
   "cell_type": "code",
   "execution_count": 8,
   "metadata": {},
   "outputs": [],
   "source": [
    "def td_loss(target_net,policy_net,batch,device,weights=None,GAMMA = 0.99):\n",
    "    \n",
    "    s_ = torch.as_tensor(batch.state,dtype=torch.float32).to(device)\n",
    "    a_ = torch.as_tensor(batch.action,dtype=torch.int64).to(device)\n",
    "    r_ = torch.as_tensor(batch.reward,dtype=torch.float32).to(device)\n",
    "    ns_= torch.as_tensor(batch.next_state,dtype=torch.float32).to(device)\n",
    "    d_= torch.as_tensor(batch.done,dtype=torch.float32).to(device)\n",
    "    not_d_ = 1 - d_\n",
    "    \n",
    "    #predict Q values\n",
    "    predict_q_ = policy_net(s_).gather(dim=1,index=a_.view(-1,1)).squeeze()\n",
    "    \n",
    "    #predict Next QValues with target network\n",
    "    with torch.no_grad():\n",
    "        predict_next_q_ = target_net(ns_)\n",
    "        predict_v_ = torch.max(predict_next_q_,dim=1)[0] * not_d_\n",
    "        reference_q_ = r_ + GAMMA * predict_v_\n",
    "    \n",
    "    #loss = F.mse_loss(predict_q_,reference_q_)\n",
    "    if weights:\n",
    "        weights_t = torch.as_tensor(weights,dtype=torch.float32).to(device).detach()\n",
    "        loss = ((predict_q_ - reference_q_)**2 *weights_t).mean()\n",
    "    else:\n",
    "        loss = F.smooth_l1_loss(predict_q_,reference_q_)\n",
    "    \n",
    "    return loss"
   ]
  },
  {
   "cell_type": "markdown",
   "metadata": {},
   "source": [
    "### Main loop\n",
    "\n",
    "It's time to put everything together and see if it learns anything."
   ]
  },
  {
   "cell_type": "code",
   "execution_count": 4,
   "metadata": {},
   "outputs": [],
   "source": [
    "from tqdm import trange\n",
    "from IPython.display import clear_output\n",
    "import matplotlib.pyplot as plt\n",
    "%matplotlib inline"
   ]
  },
  {
   "cell_type": "code",
   "execution_count": 9,
   "metadata": {},
   "outputs": [],
   "source": [
    "device = torch.device(\"cuda\" if torch.cuda.is_available() else \"cpu\")\n",
    "state_dim,n_actions = env.observation_space.shape[0],env.action_space.n"
   ]
  },
  {
   "cell_type": "code",
   "execution_count": 10,
   "metadata": {},
   "outputs": [],
   "source": [
    "policy_net = MLModel(state_dim,n_actions).to(device)\n",
    "agent = DQNAgent(state_dim, n_actions,policy_net, epsilon=0.5)"
   ]
  },
  {
   "cell_type": "code",
   "execution_count": 11,
   "metadata": {},
   "outputs": [
    {
     "data": {
      "text/plain": [
       "-456.6116931812651"
      ]
     },
     "execution_count": 11,
     "metadata": {},
     "output_type": "execute_result"
    }
   ],
   "source": [
    "evaluate(env, agent, n_games=3,render=True)"
   ]
  },
  {
   "cell_type": "code",
   "execution_count": null,
   "metadata": {
    "scrolled": true
   },
   "outputs": [],
   "source": [
    "policy_net = MLModel(state_dim,n_actions,n_l1=64,n_l2=128).to(device)\n",
    "target_net = MLModel(state_dim,n_actions,n_l1=64,n_l2=128).to(device)\n",
    "target_net.load_state_dict(policy_net.state_dict())\n",
    "agent = DQNAgent(state_dim, n_actions,policy_net, epsilon=0.5)\n",
    "test_agent = DQNAgent(state_dim, n_actions,policy_net, epsilon=0.0)\n",
    "mean_rw_history = []\n",
    "td_loss_history = []\n",
    "td_loss_m_history = []\n",
    "BATCH_SIZE=64\n",
    "TIME_STEPS=10**5*4\n",
    "LEARNING_RATE= 0.0005\n",
    "EPSILON_START = 0.5\n",
    "EPSILON_END = 0.001\n",
    "agent.epsilon=EPSILON_START\n",
    "exp_replay = ReplayMemory(10**5)\n",
    "optimizer = torch.optim.Adam(policy_net.parameters(),lr= LEARNING_RATE)\n",
    "\n",
    "# for training\n",
    "env = gym.make(\"LunarLander-v2\")\n",
    "# for evaluation\n",
    "eval_env = gym.make(\"LunarLander-v2\")\n",
    "s = env.reset()\n",
    "for i in trange(TIME_STEPS):\n",
    "    \n",
    "    # play\n",
    "    a = agent.get_state_action(s)\n",
    "    s_next,r,done, _ = env.step(a)\n",
    "    \n",
    "    transition = Transition(s,a,r,s_next,done)\n",
    "    exp_replay.push(transition)\n",
    "    \n",
    "    s = s_next\n",
    "    \n",
    "    if done:\n",
    "        s = env.reset()\n",
    "    \n",
    "    if len(exp_replay) < BATCH_SIZE:\n",
    "        continue\n",
    "    \n",
    "    # train\n",
    "    # < sample data from experience replay>\n",
    "    transitions = exp_replay.sample(BATCH_SIZE-1)\n",
    "    transitions.append(transition)\n",
    "    # Transpose the batch (see http://stackoverflow.com/a/19343/3343043 for # detailed explanation).\n",
    "    batch = Transition(*zip(*transitions))\n",
    "   \n",
    "    # loss = < compute TD loss >\n",
    "    loss = td_loss(target_net,policy_net,batch,device)\n",
    "    \n",
    "    #< minimize loss by gradient descent >\n",
    "    optimizer.zero_grad()\n",
    "    loss.backward()\n",
    "    optimizer.step()\n",
    "    \n",
    "    td_loss_history.append(loss.cpu().data.numpy())\n",
    "    \n",
    "    count = min(len(td_loss_history),100)\n",
    "    td_loss_m_history.append(np.mean(td_loss_history[-count:]))\n",
    "    \n",
    "    # adjust agent parameters\n",
    "    agent.epsilon -= (EPSILON_START - EPSILON_END)/TIME_STEPS\n",
    "    #Load agent weights into target_network\n",
    "    \n",
    "    if i % 100 == 0:\n",
    "        target_net.load_state_dict(policy_net.state_dict())\n",
    "    \n",
    "    if i % 500 == 0:\n",
    "        \n",
    "        mean_rw_history.append(evaluate(eval_env, test_agent, n_games=5))\n",
    "        if mean_rw_history[-1] > 200:\n",
    "            break\n",
    "        \n",
    "        clear_output(True)\n",
    "        print(\"buffer size = %i, epsilon = %.5f\" % (len(exp_replay), agent.epsilon))\n",
    "        plt.figure(figsize=[12, 4])        \n",
    "        plt.subplot(1,2,1)\n",
    "        plt.title(\"mean reward per game\")\n",
    "        plt.plot(mean_rw_history)\n",
    "        plt.grid()\n",
    "\n",
    "        plt.subplot(1,2,2)\n",
    "        plt.title(\"TD loss history (moving average)\")\n",
    "        plt.plot(td_loss_m_history)\n",
    "        plt.grid()\n",
    "        plt.show()\n",
    "        \n",
    "        "
   ]
  },
  {
   "cell_type": "code",
   "execution_count": 23,
   "metadata": {},
   "outputs": [],
   "source": [
    "torch.save(target_net.state_dict(), \"checkpoint.pt\")"
   ]
  },
  {
   "cell_type": "code",
   "execution_count": 27,
   "metadata": {},
   "outputs": [],
   "source": [
    "policy_net.load_state_dict(torch.load(\"checkpoint.pt\"))"
   ]
  },
  {
   "cell_type": "code",
   "execution_count": null,
   "metadata": {},
   "outputs": [],
   "source": [
    "evaluate(eval_env, test_agent, n_games=1,render=True)"
   ]
  },
  {
   "cell_type": "markdown",
   "metadata": {},
   "source": [
    "### Prioritized Replay Memory\n"
   ]
  },
  {
   "cell_type": "code",
   "execution_count": 13,
   "metadata": {},
   "outputs": [],
   "source": [
    "class SumTree(object):\n",
    "    \"\"\"\n",
    "    This SumTree code is modified version and the original code is from: \n",
    "    https://github.com/jaara/AI-blog/blob/master/SumTree.py\n",
    "    Store the data with its priority in tree and data frameworks.\n",
    "    \"\"\"\n",
    "\n",
    "    def __init__(self, capacity):\n",
    "        self.capacity = capacity  # for all priority values\n",
    "        self.data_pointer = 0\n",
    "        self.length= 0\n",
    "        self.tree = np.zeros(2 * capacity - 1)\n",
    "        # [--------------parent nodes-------------][-------leaves to record priority-------]\n",
    "        #             size: capacity - 1                       size: capacity\n",
    "        self.data = np.zeros(capacity, dtype=object)  # for all transitions\n",
    "        # [--------------data frame-------------]\n",
    "        #             size: capacity\n",
    "\n",
    "    def add(self, p, data):\n",
    "        tree_idx = self.data_pointer + self.capacity - 1\n",
    "        self.data[self.data_pointer] = data  # update data_frame\n",
    "        self.update(tree_idx, p)  # update tree_frame\n",
    "\n",
    "        self.data_pointer += 1\n",
    "        if self.length< self.capacity:\n",
    "            self.length +=1\n",
    "        if self.data_pointer >= self.capacity:  # replace when exceed the capacity\n",
    "            self.data_pointer = 0\n",
    "\n",
    "    def update(self, tree_idx, p):\n",
    "        change = p - self.tree[tree_idx]\n",
    "        self.tree[tree_idx] = p\n",
    "        # then propagate the change through tree\n",
    "        while tree_idx != 0:    # this method is faster than the recursive loop in the reference code\n",
    "            tree_idx = (tree_idx - 1) // 2\n",
    "            self.tree[tree_idx] += change\n",
    "\n",
    "    def get_leaf(self, v):\n",
    "        \"\"\"\n",
    "        Tree structure and array storage:\n",
    "        Tree index:\n",
    "             0         -> storing priority sum\n",
    "            / \\\n",
    "          1     2\n",
    "         / \\   / \\\n",
    "        3   4 5   6    -> storing priority for transitions\n",
    "        Array type for storing:\n",
    "        [0,1,2,3,4,5,6]\n",
    "        \"\"\"\n",
    "        parent_idx = 0\n",
    "        while True:     # the while loop is faster than the method in the reference code\n",
    "            cl_idx = 2 * parent_idx + 1         # this leaf's left and right kids\n",
    "            cr_idx = cl_idx + 1\n",
    "            if cl_idx >= len(self.tree):        # reach bottom, end search\n",
    "                leaf_idx = parent_idx\n",
    "                break\n",
    "            else:       # downward search, always search for a higher priority node\n",
    "                if v <= self.tree[cl_idx] or self.tree[cr_idx] == 0.0:\n",
    "                    parent_idx = cl_idx\n",
    "                else:\n",
    "                    v -= self.tree[cl_idx]\n",
    "                    parent_idx = cr_idx\n",
    "\n",
    "        data_idx = leaf_idx - self.capacity + 1\n",
    "        return leaf_idx, self.tree[leaf_idx], self.data[data_idx]\n",
    "\n",
    "    @property\n",
    "    def total_p(self):\n",
    "        return self.tree[0]  # the root\n",
    "    \n",
    "    @property\n",
    "    def leaves(self):\n",
    "        return self.tree[-self.capacity:] # leaves\n",
    "    \n",
    "    def __len__(self):\n",
    "        return self.length\n",
    "\n",
    "\n",
    "class PriorExpReplay(object):  # stored as ( s, a, r, s_ ) in SumTree\n",
    "    \"\"\"\n",
    "    This SumTree code is modified version and the original code is from:\n",
    "    https://github.com/jaara/AI-blog/blob/master/Seaquest-DDQN-PER.py\n",
    "    \"\"\"\n",
    "    epsilon = 0.01  # small amount to avoid zero priority\n",
    "    alpha = 0.6  # [0~1] convert the importance of TD error to priority\n",
    "    beta = 0.4  # importance-sampling, from initial value increasing to 1\n",
    "    beta_increment_per_sampling = 0.0001\n",
    "    abs_err_upper = 1.  # clipped abs error\n",
    "\n",
    "    def __init__(self, capacity):\n",
    "        self.tree = SumTree(capacity)\n",
    "\n",
    "    def push(self, transition,td_error):\n",
    "        #max_p = max(np.max(self.tree.leaves),self.abs_err_upper)\n",
    "        p = np.power(td_error,self.alpha)\n",
    "        self.tree.add(p, transition)   # set the max p for new p\n",
    "\n",
    "    def sample(self, n):\n",
    "        indice = []\n",
    "        transitions = []\n",
    "        weights = []\n",
    "        \n",
    "        pri_seg = self.tree.total_p / float(n)       # priority segment\n",
    "        self.beta = np.min([1., self.beta + self.beta_increment_per_sampling])  # max = 1\n",
    "        \n",
    "        #min_prob = np.min(self.tree.leaves[self.tree.leaves.nonzero()]) / self.tree.total_p # for later calculate ISweight\n",
    "        p_avg = self.tree.total_p/len(self.tree)\n",
    "        \n",
    "        for i in range(n):\n",
    "            a, b = pri_seg * i, pri_seg * (i + 1)\n",
    "            v = np.random.uniform(a, b)\n",
    "            idx, p, data = self.tree.get_leaf(v)\n",
    "            \n",
    "            indice.append(idx)\n",
    "            transitions.append(data)\n",
    "            weights.append((p/p_avg)** (-self.beta))\n",
    "        return indice, transitions, weights\n",
    "\n",
    "    def batch_update(self, tree_idx, abs_errors):\n",
    "        #abs_errors += self.epsilon  # convert to abs and avoid 0\n",
    "        #clipped_errors = np.minimum(abs_errors, self.abs_err_upper)\n",
    "        ps = np.power(abs_errors, self.alpha)\n",
    "        for ti, p in zip(tree_idx, ps):\n",
    "            self.tree.update(ti, p)\n",
    "    \n",
    "    def __len__(self):\n",
    "        return len(self.tree)"
   ]
  },
  {
   "cell_type": "code",
   "execution_count": 14,
   "metadata": {},
   "outputs": [
    {
     "name": "stderr",
     "output_type": "stream",
     "text": [
      "\r",
      " 17%|█▋        | 66147/400000 [17:40<1:23:34, 66.57it/s]"
     ]
    }
   ],
   "source": [
    "def td_error(target_net,policy_net,batch,device,GAMMA = 0.99):\n",
    "    s_ = torch.as_tensor(batch.state,dtype=torch.float32).to(device)\n",
    "    a_ = torch.as_tensor(batch.action,dtype=torch.int64).to(device)\n",
    "    r_ = torch.as_tensor(batch.reward,dtype=torch.float32).to(device)\n",
    "    ns_= torch.as_tensor(batch.next_state,dtype=torch.float32).to(device)\n",
    "    d_= torch.as_tensor(batch.done,dtype=torch.float32).to(device)\n",
    "    not_d_ = 1 - d_\n",
    "    \n",
    "    with torch.no_grad():\n",
    "        #predict Q values\n",
    "        predict_q_ = policy_net(s_).gather(dim=1,index=a_.view(-1,1)).squeeze()\n",
    "        #predict Next QValues with target network\n",
    "        predict_next_q_ = target_net(ns_)\n",
    "        predict_v_ = torch.max(predict_next_q_,dim=1)[0] * not_d_\n",
    "        reference_q_ = r_ + GAMMA * predict_v_\n",
    "    \n",
    "        #loss = F.mse_loss(predict_q_,reference_q_)\n",
    "        error = torch.abs(predict_q_- reference_q_)\n",
    "    \n",
    "    return error.cpu().numpy().squeeze()"
   ]
  },
  {
   "cell_type": "code",
   "execution_count": null,
   "metadata": {},
   "outputs": [],
   "source": [
    "policy_net = MLModel(state_dim,n_actions,n_l1=64,n_l2=128).to(device)\n",
    "target_net = MLModel(state_dim,n_actions,n_l1=64,n_l2=128).to(device)\n",
    "target_net.load_state_dict(policy_net.state_dict())\n",
    "agent = DQNAgent(state_dim, n_actions,policy_net, epsilon=0.5)\n",
    "test_agent = DQNAgent(state_dim, n_actions,policy_net, epsilon=0.0)\n",
    "\n",
    "mean_rw_history = []\n",
    "td_loss_history = []\n",
    "td_loss_m_history = []\n",
    "BATCH_SIZE=64\n",
    "TIME_STEPS=10**5*4\n",
    "LEARNING_RATE= 0.0005\n",
    "EPSILON_START = 0.5\n",
    "EPSILON_END = 0.001\n",
    "agent.epsilon=EPSILON_START\n",
    "exp_replay = PriorExpReplay(10**5)\n",
    "optimizer = torch.optim.Adam(policy_net.parameters(),lr= LEARNING_RATE)\n",
    "\n",
    "# for training\n",
    "env = gym.make(\"LunarLander-v2\")\n",
    "# for evaluation\n",
    "eval_env = gym.make(\"LunarLander-v2\")\n",
    "s = env.reset()\n",
    "for i in trange(TIME_STEPS):\n",
    "    \n",
    "    # play\n",
    "    a = agent.get_state_action(s)\n",
    "    s_next,r,done, _ = env.step(a)\n",
    "    \n",
    "    transition = Transition(s,a,r,s_next,done)\n",
    "    s = s_next\n",
    "    \n",
    "    if done:\n",
    "        s = env.reset()\n",
    "    \n",
    "    batch = Transition(*zip(*[transition]))\n",
    "    td_err = td_error(target_net,policy_net,batch,device)\n",
    "    exp_replay.push(transition,td_err)\n",
    "    if i < BATCH_SIZE:\n",
    "        continue\n",
    "    \n",
    "    # train\n",
    "    # < sample data from experience replay>\n",
    "    indice,transitions,weights = exp_replay.sample(BATCH_SIZE)\n",
    "    batch = Transition(*zip(*transitions))\n",
    "   \n",
    "    # loss = < compute TD loss >\n",
    "    loss = td_loss(target_net,policy_net,batch,device,weights)\n",
    "    \n",
    "    #< minimize loss by gradient descent >\n",
    "    optimizer.zero_grad()\n",
    "    loss.backward()\n",
    "    optimizer.step()\n",
    "    \n",
    "    td_errs = td_error(target_net,policy_net,batch,device)\n",
    "    exp_replay.batch_update(indice,td_errs)\n",
    "    \n",
    "    td_loss_history.append(loss.cpu().data.numpy())\n",
    "    \n",
    "    count = min(len(td_loss_history),100)\n",
    "    td_loss_m_history.append(np.mean(td_loss_history[-count:]))\n",
    "    \n",
    "    # adjust agent parameters\n",
    "    agent.epsilon -= (EPSILON_START - EPSILON_END)/TIME_STEPS\n",
    "    \n",
    "    if i % 10 == 0:\n",
    "        #Load agent weights into target_network\n",
    "        target_net.load_state_dict(policy_net.state_dict())\n",
    "        \n",
    "    if i % 100 == 0:\n",
    "        \n",
    "        mean_rw_history.append(evaluate(eval_env, test_agent, n_games=5))\n",
    "        \n",
    "        if mean_rw_history[-1] > 200:\n",
    "            break\n",
    "        \n",
    "        clear_output(True)\n",
    "        print(\"buffer size = %i, epsilon = %.5f\" % (len(exp_replay), agent.epsilon))\n",
    "        plt.figure(figsize=[12, 4])        \n",
    "        plt.subplot(1,2,1)\n",
    "        plt.title(\"mean reward per game\")\n",
    "        plt.plot(mean_rw_history)\n",
    "        plt.grid()\n",
    "\n",
    "        plt.subplot(1,2,2)\n",
    "        plt.title(\"TD loss history (moving average)\")\n",
    "        plt.plot(td_loss_m_history)\n",
    "        plt.grid()\n",
    "        plt.show()\n",
    "        "
   ]
  },
  {
   "cell_type": "markdown",
   "metadata": {},
   "source": [
    "### Video"
   ]
  },
  {
   "cell_type": "code",
   "execution_count": 32,
   "metadata": {},
   "outputs": [],
   "source": [
    "agent.epsilon=0 # Don't forget to reset epsilon back to previous value if you want to go on training"
   ]
  },
  {
   "cell_type": "code",
   "execution_count": 36,
   "metadata": {
    "scrolled": true
   },
   "outputs": [],
   "source": [
    "#record sessions\n",
    "import gym.wrappers\n",
    "env_monitor = gym.wrappers.Monitor(eval_env,directory=\"videos\",force=True)\n",
    "sessions = [evaluate(env_monitor, agent, n_games=1,render=True) for _ in range(1)]\n",
    "env_monitor.close()\n",
    "eval_env.close()"
   ]
  },
  {
   "cell_type": "code",
   "execution_count": 37,
   "metadata": {},
   "outputs": [
    {
     "data": {
      "text/html": [
       "\n",
       "<video width=\"640\" height=\"480\" controls>\n",
       "  <source src=\"./videos/openaigym.video.1.25718.video000000.mp4\" type=\"video/mp4\">\n",
       "</video>\n"
      ],
      "text/plain": [
       "<IPython.core.display.HTML object>"
      ]
     },
     "execution_count": 37,
     "metadata": {},
     "output_type": "execute_result"
    }
   ],
   "source": [
    "#show video\n",
    "from IPython.display import HTML\n",
    "import os\n",
    "\n",
    "video_names = list(filter(lambda s:s.endswith(\".mp4\"),os.listdir(\"./videos/\")))\n",
    "\n",
    "HTML(\"\"\"\n",
    "<video width=\"640\" height=\"480\" controls>\n",
    "  <source src=\"{}\" type=\"video/mp4\">\n",
    "</video>\n",
    "\"\"\".format(\"./videos/\"+video_names[-1])) #this may or may not be _last_ video. Try other indices"
   ]
  },
  {
   "cell_type": "markdown",
   "metadata": {},
   "source": [
    "## Bonus I (2+ pts)\n",
    "\n",
    "Implement and train double q-learning.\n",
    "\n",
    "This task contains of\n",
    "* Implementing __double q-learning__ or __dueling q-learning__ or both (see tips below)\n",
    "* Training a network till convergence\n",
    "  * Full points will be awarded if your network gets average score of >=10 (see \"evaluating results\")\n",
    "  * Higher score = more points as usual\n",
    "  * If you're running out of time, it's okay to submit a solution that hasn't converged yet and updating it when it converges. _Lateness penalty will not increase for second submission_, so submitting first one in time gets you no penalty.\n",
    "\n",
    "\n",
    "#### Tips:\n",
    "* Implementing __double q-learning__ shouldn't be a problem if you've already have target networks in place.\n",
    "  * You will probably need `tf.argmax` to select best actions\n",
    "  * Here's an original [article](https://arxiv.org/abs/1509.06461)\n",
    "\n",
    "* __Dueling__ architecture is also quite straightforward if you have standard DQN.\n",
    "  * You will need to change network architecture, namely the q-values layer\n",
    "  * It must now contain two heads: V(s) and A(s,a), both dense layers\n",
    "  * You should then add them up via elemwise sum layer.\n",
    "  * Here's an [article](https://arxiv.org/pdf/1511.06581.pdf)"
   ]
  },
  {
   "cell_type": "markdown",
   "metadata": {},
   "source": [
    "## Bonus II (5+ pts): Prioritized experience replay\n",
    "\n",
    "In this section, you're invited to implement prioritized experience replay\n",
    "\n",
    "* You will probably need to provide a custom data structure\n",
    "* Once pool.update is called, collect the pool.experience_replay.observations, actions, rewards and is_alive and store them in your data structure\n",
    "* You can now sample such transitions in proportion to the error (see [article](https://arxiv.org/abs/1511.05952)) for training.\n",
    "\n",
    "It's probably more convenient to explicitly declare inputs for \"sample observations\", \"sample actions\" and so on to plug them into q-learning.\n",
    "\n",
    "Prioritized (and even normal) experience replay should greatly reduce amount of game sessions you need to play in order to achieve good performance. \n",
    "\n",
    "While it's effect on runtime is limited for atari, more complicated envs (further in the course) will certainly benefit for it.\n",
    "\n",
    "Prioritized experience replay only supports off-policy algorithms, so pls enforce `n_steps=1` in your q-learning reference computation (default is 10)."
   ]
  },
  {
   "cell_type": "markdown",
   "metadata": {},
   "source": [
    "## Neuroevolution Search method"
   ]
  },
  {
   "cell_type": "code",
   "execution_count": 12,
   "metadata": {},
   "outputs": [],
   "source": [
    "def population_initialization(size,n_input,n_output):\n",
    "    return [MLModel(n_input,n_output) for _ in range(size)]"
   ]
  },
  {
   "cell_type": "code",
   "execution_count": 13,
   "metadata": {},
   "outputs": [],
   "source": [
    "def get_fitness_score(model,agent,env):\n",
    "    agent.model = model\n",
    "    return evaluate(env, agent, n_games=3)"
   ]
  },
  {
   "cell_type": "code",
   "execution_count": 47,
   "metadata": {},
   "outputs": [],
   "source": [
    "def breed(parent1,parent2,mutation_rate=0.1):\n",
    "    gen1 = parent1.genome\n",
    "    gen2 = parent2.genome\n",
    "    gen_length= gen1.numel()\n",
    "    genes_pool = torch.stack((gen1,gen2),dim=1)\n",
    "    #cross_over\n",
    "    child_genes = genes_pool.gather(1, index=torch.randint(0,2,size=(gen_length,1),dtype=torch.int64))\n",
    "    child_genes.squeeze_()\n",
    "    #mutation\n",
    "    if mutation_rate>0:\n",
    "        mutated_num = int(gen_length * mutation_rate)\n",
    "        mutated_idx = torch.randint(gen_length,(mutated_num,),dtype=torch.int64)\n",
    "        mutation_vals = torch.rand((mutated_num,))-0.5\n",
    "        child_genes.index_add_(0,mutated_idx,mutation_vals)\n",
    "        \n",
    "        \n",
    "    child = MLModel(parent2.input_size,parent2.output_size)\n",
    "    child.update_genome(child_genes)\n",
    "    \n",
    "    return child "
   ]
  },
  {
   "cell_type": "code",
   "execution_count": 91,
   "metadata": {},
   "outputs": [],
   "source": [
    "def evolve(populations,fitness_scores,agent,env, survive_rate = 0.2,epsilon = 0.001):\n",
    "    # test fitness\n",
    "    pop_length= len(populations)\n",
    "    \n",
    "    # convert fitness_scores to probablity for survive\n",
    "    scores= np.array(fitness_scores)\n",
    "    min_score = np.min(scores,axis=0)\n",
    "    scores = scores- min_score + epsilon\n",
    "    probablities = (scores/ np.linalg.norm(scores))**2\n",
    "    \n",
    "    #select survivors\n",
    "    survive_count = int(pop_length * survive_rate)\n",
    "    survive_idx = np.random.choice(pop_length,size=survive_count,p = probablities)\n",
    "    survivors = np.array(populations)[survive_idx].tolist()\n",
    "    \n",
    "    #breed\n",
    "    child_count = pop_length - survive_count\n",
    "    children = []\n",
    "    \n",
    "    for _ in range(child_count):\n",
    "        p1,p2 = np.random.choice(survive_count,size=2)\n",
    "        parent1 = survivors[p1]\n",
    "        parent2 = survivors[p2]\n",
    "        child = breed(parent1,parent2)\n",
    "        children.append(child)\n",
    "        \n",
    "    new_pops = survivors + children\n",
    "    fitness_scores = [get_fitness_score(model,agent,env) for model in new_pops]\n",
    "    \n",
    "    return new_pops,fitness_scores\n",
    "    \n",
    "    "
   ]
  },
  {
   "cell_type": "code",
   "execution_count": 93,
   "metadata": {},
   "outputs": [
    {
     "name": "stdout",
     "output_type": "stream",
     "text": [
      "training...\n",
      "Episode 0  Top 3 Scores: -118.47, -118.60, -119.53\n",
      "Episode 100  Top 3 Scores: -40.22, -60.17, -69.29\n",
      "Episode 200  Top 3 Scores: 35.07, 2.21, -11.07926\n",
      "Episode 228  Top 3 Scores: 80.58, 34.57, 18.40evolution reaches target species with score:-455.0472179583442\n"
     ]
    }
   ],
   "source": [
    "#\n",
    "from collections import deque\n",
    "POP_SIZE=50\n",
    "GENERATION_NUM = 1000\n",
    "print('training...')\n",
    "# initialize polulation\n",
    "pops = population_initialization(POP_SIZE,state_dim,n_actions)\n",
    "agent = DQNAgent(state_dim,n_actions,pops[0],epsilon=0)\n",
    "evolve_env = gym.make(\"LunarLander-v2\")\n",
    "evolve_env.seed(0)\n",
    "score_history1 = deque(maxlen=50)\n",
    "score_history2 = deque(maxlen=50)\n",
    "score_history3 = deque(maxlen=50)\n",
    "\n",
    "fitness_scores = [get_fitness_score(model,agent,env) for model in pops]\n",
    "best_pop = pops[0]\n",
    "\n",
    "for i in range(GENERATION_NUM):\n",
    "    pops, fitness_scores = evolve(pops,fitness_scores,agent,evolve_env)\n",
    "    score_sort_idx = np.argsort(fitness_scores)\n",
    "\n",
    "    score_history1.append(fitness_scores[score_sort_idx[-1]])\n",
    "    score_history2.append(fitness_scores[score_sort_idx[-2]])\n",
    "    score_history3.append(fitness_scores[score_sort_idx[-3]])\n",
    "    print('\\rEpisode {}  Top 3 Scores: {:.2f}, {:.2f}, {:.2f}'.format(i, \\\n",
    "                    np.mean(score_history1),np.mean(score_history2),np.mean(score_history3)),end=\"\")\n",
    "    \n",
    "    if i %100 == 0:\n",
    "        print('\\rEpisode {}  Top 3 Scores: {:.2f}, {:.2f}, {:.2f}'.format(i, \\\n",
    "                    np.mean(score_history1),np.mean(score_history2),np.mean(score_history3)))\n",
    "    \n",
    "    if np.mean(score_history1) >= 200:\n",
    "        print(\"\\nEvolution reaches target species with score:{}\".format(fitness_scores[score_sort_idx[-1]]))\n",
    "        best_pop = pops[score_sort_idx[-1]]\n",
    "        break"
   ]
  },
  {
   "cell_type": "code",
   "execution_count": 100,
   "metadata": {},
   "outputs": [
    {
     "data": {
      "text/plain": [
       "265.8409383010742"
      ]
     },
     "execution_count": 100,
     "metadata": {},
     "output_type": "execute_result"
    }
   ],
   "source": [
    "agent.model = best_pop\n",
    "evaluate(evolve_env, agent, n_games=1,render=True)"
   ]
  },
  {
   "cell_type": "markdown",
   "metadata": {},
   "source": [
    "### Policy Gradient Monte Carlo Method"
   ]
  },
  {
   "cell_type": "code",
   "execution_count": 7,
   "metadata": {},
   "outputs": [],
   "source": [
    "from torch.distributions.categorical import Categorical\n",
    "\n",
    "class PGAgent():\n",
    "    def __init__(self,model):\n",
    "        \"\"\"A simple PG agent\"\"\"\n",
    "        self.model = model\n",
    "    \n",
    "    def get_action(self,state):\n",
    "        \"\"\"interface for Agent\"\"\"\n",
    "        device = torch.device(\"cuda\" if torch.cuda.is_available() else \"cpu\")\n",
    "        s = torch.from_numpy(np.expand_dims(state,axis=0)).to(device)\n",
    "        with torch.no_grad():\n",
    "            logits = self.model.forward(s)\n",
    "            #m = Categorical(logits = logits)\n",
    "            #action = m.sample()\n",
    "            # return action.cpu().numpy().data[0]\n",
    "            probs = F.softmax(logits,dim=1).squeeze().cpu().numpy()\n",
    "        return np.random.choice(len(probs),p=probs)\n",
    "            \n",
    "       "
   ]
  },
  {
   "cell_type": "code",
   "execution_count": 23,
   "metadata": {},
   "outputs": [],
   "source": [
    "del pg_model"
   ]
  },
  {
   "cell_type": "code",
   "execution_count": 25,
   "metadata": {
    "scrolled": true
   },
   "outputs": [
    {
     "data": {
      "image/png": "[encoded data removed]",
      "text/plain": [
       "<Figure size 864x864 with 6 Axes>"
      ]
     },
     "metadata": {},
     "output_type": "display_data"
    },
    {
     "ename": "KeyboardInterrupt",
     "evalue": "",
     "output_type": "error",
     "traceback": [
      "\u001b[0;31m---------------------------------------\u001b[0m",
      "\u001b[0;31mKeyboardInterrupt\u001b[0mTraceback (most recent call last)",
      "\u001b[0;32m<ipython-input-25-fde16bdba97b>\u001b[0m in \u001b[0;36m<module>\u001b[0;34m()\u001b[0m\n\u001b[1;32m    118\u001b[0m     \u001b[0;32mif\u001b[0m \u001b[0mi\u001b[0m \u001b[0;34m%\u001b[0m \u001b[0;36m10\u001b[0m \u001b[0;34m==\u001b[0m \u001b[0;36m0\u001b[0m\u001b[0;34m:\u001b[0m\u001b[0;34m\u001b[0m\u001b[0m\n\u001b[1;32m    119\u001b[0m \u001b[0;34m\u001b[0m\u001b[0m\n\u001b[0;32m--> 120\u001b[0;31m         \u001b[0mmean_rw_history\u001b[0m\u001b[0;34m.\u001b[0m\u001b[0mappend\u001b[0m\u001b[0;34m(\u001b[0m\u001b[0mevaluate\u001b[0m\u001b[0;34m(\u001b[0m\u001b[0meval_env\u001b[0m\u001b[0;34m,\u001b[0m \u001b[0magent\u001b[0m\u001b[0;34m,\u001b[0m \u001b[0mn_games\u001b[0m\u001b[0;34m=\u001b[0m\u001b[0;36m5\u001b[0m\u001b[0;34m)\u001b[0m\u001b[0;34m)\u001b[0m\u001b[0;34m\u001b[0m\u001b[0m\n\u001b[0m\u001b[1;32m    121\u001b[0m \u001b[0;34m\u001b[0m\u001b[0m\n\u001b[1;32m    122\u001b[0m         \u001b[0;32mif\u001b[0m \u001b[0mmean_rw_history\u001b[0m\u001b[0;34m[\u001b[0m\u001b[0;34m-\u001b[0m\u001b[0;36m1\u001b[0m\u001b[0;34m]\u001b[0m \u001b[0;34m>\u001b[0m \u001b[0;36m200\u001b[0m\u001b[0;34m:\u001b[0m\u001b[0;34m\u001b[0m\u001b[0m\n",
      "\u001b[0;32m<ipython-input-3-df016849dc19>\u001b[0m in \u001b[0;36mevaluate\u001b[0;34m(env, agent, n_games, render)\u001b[0m\n\u001b[1;32m     11\u001b[0m         \u001b[0;32mfor\u001b[0m \u001b[0m_\u001b[0m \u001b[0;32min\u001b[0m \u001b[0mrange\u001b[0m\u001b[0;34m(\u001b[0m\u001b[0mt_max\u001b[0m\u001b[0;34m)\u001b[0m\u001b[0;34m:\u001b[0m\u001b[0;34m\u001b[0m\u001b[0m\n\u001b[1;32m     12\u001b[0m             \u001b[0maction\u001b[0m \u001b[0;34m=\u001b[0m \u001b[0magent\u001b[0m\u001b[0;34m.\u001b[0m\u001b[0mget_action\u001b[0m\u001b[0;34m(\u001b[0m\u001b[0ms\u001b[0m\u001b[0;34m)\u001b[0m\u001b[0;34m\u001b[0m\u001b[0m\n\u001b[0;32m---> 13\u001b[0;31m             \u001b[0ms\u001b[0m\u001b[0;34m,\u001b[0m \u001b[0mr\u001b[0m\u001b[0;34m,\u001b[0m \u001b[0mdone\u001b[0m\u001b[0;34m,\u001b[0m \u001b[0m_\u001b[0m \u001b[0;34m=\u001b[0m \u001b[0menv\u001b[0m\u001b[0;34m.\u001b[0m\u001b[0mstep\u001b[0m\u001b[0;34m(\u001b[0m\u001b[0maction\u001b[0m\u001b[0;34m)\u001b[0m\u001b[0;34m\u001b[0m\u001b[0m\n\u001b[0m\u001b[1;32m     14\u001b[0m             \u001b[0;32mif\u001b[0m \u001b[0mrender\u001b[0m\u001b[0;34m:\u001b[0m\u001b[0;34m\u001b[0m\u001b[0m\n\u001b[1;32m     15\u001b[0m                 \u001b[0menv\u001b[0m\u001b[0;34m.\u001b[0m\u001b[0mrender\u001b[0m\u001b[0;34m(\u001b[0m\u001b[0;34m)\u001b[0m\u001b[0;34m\u001b[0m\u001b[0m\n",
      "\u001b[0;32m~/repo/gym/gym/wrappers/time_limit.py\u001b[0m in \u001b[0;36mstep\u001b[0;34m(self, action)\u001b[0m\n\u001b[1;32m     29\u001b[0m     \u001b[0;32mdef\u001b[0m \u001b[0mstep\u001b[0m\u001b[0;34m(\u001b[0m\u001b[0mself\u001b[0m\u001b[0;34m,\u001b[0m \u001b[0maction\u001b[0m\u001b[0;34m)\u001b[0m\u001b[0;34m:\u001b[0m\u001b[0;34m\u001b[0m\u001b[0m\n\u001b[1;32m     30\u001b[0m         \u001b[0;32massert\u001b[0m \u001b[0mself\u001b[0m\u001b[0;34m.\u001b[0m\u001b[0m_episode_started_at\u001b[0m \u001b[0;32mis\u001b[0m \u001b[0;32mnot\u001b[0m \u001b[0;32mNone\u001b[0m\u001b[0;34m,\u001b[0m \u001b[0;34m\"Cannot call env.step() before calling reset()\"\u001b[0m\u001b[0;34m\u001b[0m\u001b[0m\n\u001b[0;32m---> 31\u001b[0;31m         \u001b[0mobservation\u001b[0m\u001b[0;34m,\u001b[0m \u001b[0mreward\u001b[0m\u001b[0;34m,\u001b[0m \u001b[0mdone\u001b[0m\u001b[0;34m,\u001b[0m \u001b[0minfo\u001b[0m \u001b[0;34m=\u001b[0m \u001b[0mself\u001b[0m\u001b[0;34m.\u001b[0m\u001b[0menv\u001b[0m\u001b[0;34m.\u001b[0m\u001b[0mstep\u001b[0m\u001b[0;34m(\u001b[0m\u001b[0maction\u001b[0m\u001b[0;34m)\u001b[0m\u001b[0;34m\u001b[0m\u001b[0m\n\u001b[0m\u001b[1;32m     32\u001b[0m         \u001b[0mself\u001b[0m\u001b[0;34m.\u001b[0m\u001b[0m_elapsed_steps\u001b[0m \u001b[0;34m+=\u001b[0m \u001b[0;36m1\u001b[0m\u001b[0;34m\u001b[0m\u001b[0m\n\u001b[1;32m     33\u001b[0m \u001b[0;34m\u001b[0m\u001b[0m\n",
      "\u001b[0;32m~/repo/gym/gym/envs/box2d/lunar_lander.py\u001b[0m in \u001b[0;36mstep\u001b[0;34m(self, action)\u001b[0m\n\u001b[1;32m    279\u001b[0m             \u001b[0mself\u001b[0m\u001b[0;34m.\u001b[0m\u001b[0mlander\u001b[0m\u001b[0;34m.\u001b[0m\u001b[0mApplyLinearImpulse\u001b[0m\u001b[0;34m(\u001b[0m \u001b[0;34m(\u001b[0m\u001b[0;34m-\u001b[0m\u001b[0mox\u001b[0m\u001b[0;34m*\u001b[0m\u001b[0mSIDE_ENGINE_POWER\u001b[0m\u001b[0;34m*\u001b[0m\u001b[0ms_power\u001b[0m\u001b[0;34m,\u001b[0m \u001b[0;34m-\u001b[0m\u001b[0moy\u001b[0m\u001b[0;34m*\u001b[0m\u001b[0mSIDE_ENGINE_POWER\u001b[0m\u001b[0;34m*\u001b[0m\u001b[0ms_power\u001b[0m\u001b[0;34m)\u001b[0m\u001b[0;34m,\u001b[0m \u001b[0mimpulse_pos\u001b[0m\u001b[0;34m,\u001b[0m \u001b[0;32mTrue\u001b[0m\u001b[0;34m)\u001b[0m\u001b[0;34m\u001b[0m\u001b[0m\n\u001b[1;32m    280\u001b[0m \u001b[0;34m\u001b[0m\u001b[0m\n\u001b[0;32m--> 281\u001b[0;31m         \u001b[0mself\u001b[0m\u001b[0;34m.\u001b[0m\u001b[0mworld\u001b[0m\u001b[0;34m.\u001b[0m\u001b[0mStep\u001b[0m\u001b[0;34m(\u001b[0m\u001b[0;36m1.0\u001b[0m\u001b[0;34m/\u001b[0m\u001b[0mFPS\u001b[0m\u001b[0;34m,\u001b[0m \u001b[0;36m6\u001b[0m\u001b[0;34m*\u001b[0m\u001b[0;36m30\u001b[0m\u001b[0;34m,\u001b[0m \u001b[0;36m2\u001b[0m\u001b[0;34m*\u001b[0m\u001b[0;36m30\u001b[0m\u001b[0;34m)\u001b[0m\u001b[0;34m\u001b[0m\u001b[0m\n\u001b[0m\u001b[1;32m    282\u001b[0m \u001b[0;34m\u001b[0m\u001b[0m\n\u001b[1;32m    283\u001b[0m         \u001b[0mpos\u001b[0m \u001b[0;34m=\u001b[0m \u001b[0mself\u001b[0m\u001b[0;34m.\u001b[0m\u001b[0mlander\u001b[0m\u001b[0;34m.\u001b[0m\u001b[0mposition\u001b[0m\u001b[0;34m\u001b[0m\u001b[0m\n",
      "\u001b[0;32m~/repo/gym/gym/envs/box2d/lunar_lander.py\u001b[0m in \u001b[0;36mBeginContact\u001b[0;34m(self, contact)\u001b[0m\n\u001b[1;32m     64\u001b[0m             \u001b[0mself\u001b[0m\u001b[0;34m.\u001b[0m\u001b[0menv\u001b[0m\u001b[0;34m.\u001b[0m\u001b[0mgame_over\u001b[0m \u001b[0;34m=\u001b[0m \u001b[0;32mTrue\u001b[0m\u001b[0;34m\u001b[0m\u001b[0m\n\u001b[1;32m     65\u001b[0m         \u001b[0;32mfor\u001b[0m \u001b[0mi\u001b[0m \u001b[0;32min\u001b[0m \u001b[0mrange\u001b[0m\u001b[0;34m(\u001b[0m\u001b[0;36m2\u001b[0m\u001b[0;34m)\u001b[0m\u001b[0;34m:\u001b[0m\u001b[0;34m\u001b[0m\u001b[0m\n\u001b[0;32m---> 66\u001b[0;31m             \u001b[0;32mif\u001b[0m \u001b[0mself\u001b[0m\u001b[0;34m.\u001b[0m\u001b[0menv\u001b[0m\u001b[0;34m.\u001b[0m\u001b[0mlegs\u001b[0m\u001b[0;34m[\u001b[0m\u001b[0mi\u001b[0m\u001b[0;34m]\u001b[0m \u001b[0;32min\u001b[0m \u001b[0;34m[\u001b[0m\u001b[0mcontact\u001b[0m\u001b[0;34m.\u001b[0m\u001b[0mfixtureA\u001b[0m\u001b[0;34m.\u001b[0m\u001b[0mbody\u001b[0m\u001b[0;34m,\u001b[0m \u001b[0mcontact\u001b[0m\u001b[0;34m.\u001b[0m\u001b[0mfixtureB\u001b[0m\u001b[0;34m.\u001b[0m\u001b[0mbody\u001b[0m\u001b[0;34m]\u001b[0m\u001b[0;34m:\u001b[0m\u001b[0;34m\u001b[0m\u001b[0m\n\u001b[0m\u001b[1;32m     67\u001b[0m                 \u001b[0mself\u001b[0m\u001b[0;34m.\u001b[0m\u001b[0menv\u001b[0m\u001b[0;34m.\u001b[0m\u001b[0mlegs\u001b[0m\u001b[0;34m[\u001b[0m\u001b[0mi\u001b[0m\u001b[0;34m]\u001b[0m\u001b[0;34m.\u001b[0m\u001b[0mground_contact\u001b[0m \u001b[0;34m=\u001b[0m \u001b[0;32mTrue\u001b[0m\u001b[0;34m\u001b[0m\u001b[0m\n\u001b[1;32m     68\u001b[0m     \u001b[0;32mdef\u001b[0m \u001b[0mEndContact\u001b[0m\u001b[0;34m(\u001b[0m\u001b[0mself\u001b[0m\u001b[0;34m,\u001b[0m \u001b[0mcontact\u001b[0m\u001b[0;34m)\u001b[0m\u001b[0;34m:\u001b[0m\u001b[0;34m\u001b[0m\u001b[0m\n",
      "\u001b[0;31mKeyboardInterrupt\u001b[0m: "
     ]
    }
   ],
   "source": [
    "from collections import deque\n",
    "# for training\n",
    "env = gym.make(\"LunarLander-v2\")\n",
    "# for evaluation\n",
    "eval_env = gym.make(\"LunarLander-v2\")\n",
    "\n",
    "device = torch.device(\"cuda\" if torch.cuda.is_available() else \"cpu\")\n",
    "state_dim, n_actions = env.observation_space.shape[0], env.action_space.n\n",
    "\n",
    "actor_model = MLModel(state_dim, n_actions, n_l1=64, n_l2=256).to(device)\n",
    "critic_model = MLModel(state_dim, 1, n_l1=64, n_l2=128).to(device)\n",
    "agent = PGAgent(actor_model)\n",
    "\n",
    "EPISODE_NUM = 10000\n",
    "LEARNING_RATE = 0.0005\n",
    "BATCH_SIZE = 64\n",
    "\n",
    "optimizer_actor = torch.optim.Adam(actor_model.parameters(), lr=LEARNING_RATE)\n",
    "optimizer_critic = torch.optim.Adam(critic_model.parameters(), lr=LEARNING_RATE)\n",
    "\n",
    "env.seed(0)\n",
    "eval_env.seed(0)\n",
    "np.random.seed(0)\n",
    "\n",
    "t_max = env.spec.timestep_limit or 1000\n",
    "t_max = 200\n",
    "scores = deque(maxlen=100)\n",
    "\n",
    "\n",
    "mean_rw_history = []\n",
    "loss_history = []\n",
    "entropy_history =[]\n",
    "baseline_history = []\n",
    "critic_loss_history = []\n",
    "steps_history = []\n",
    "\n",
    "for i in range(EPISODE_NUM):\n",
    "    # play\n",
    "    states = []\n",
    "    actions = []\n",
    "    rewards = []\n",
    "\n",
    "    s = env.reset()\n",
    "\n",
    "    for j in range(t_max):\n",
    "        a = agent.get_action(s)\n",
    "        s_next, r, done, _ = env.step(a)\n",
    "\n",
    "        rewards.append(r)\n",
    "        states.append(s)\n",
    "        actions.append(a)\n",
    "\n",
    "        s = s_next\n",
    "        if done:\n",
    "            break\n",
    "\n",
    "    score = np.sum(rewards)\n",
    "    scores.append(score)\n",
    "\n",
    "    step_count = j + 1\n",
    "\n",
    "    states_t = torch.FloatTensor(states).to(device)\n",
    "    rewards_t = torch.FloatTensor(rewards).to(device)\n",
    "    actions_t = torch.LongTensor(actions).to(device)\n",
    "\n",
    "    # critic loss\n",
    "    predicted_state_v = critic_model(states_t).squeeze()\n",
    "\n",
    "    if done:\n",
    "        last_state_v = torch.zeros(1)\n",
    "    else:\n",
    "        next_state_t = torch.FloatTensor([s_next]).to(device)\n",
    "        last_state_v = critic_model(next_state_t).squeeze(dim=0).detach()\n",
    "    \n",
    "    predicted_next_state_v = predicted_state_v[1:].clone().detach()\n",
    "    predicted_next_state_v = torch.cat((predicted_next_state_v, last_state_v))\n",
    "    L_critic = F.smooth_l1_loss(predicted_state_v, (predicted_next_state_v + rewards_t))\n",
    "    \n",
    "    optimizer_critic.zero_grad()\n",
    "    L_critic.backward()\n",
    "    optimizer_critic.step()\n",
    "\n",
    "    # actor loss\n",
    "    returns = np.empty_like(rewards)\n",
    "    g = last_state_v.data.numpy()\n",
    "    for k in reversed(range(step_count)):\n",
    "        g = g + rewards[k]\n",
    "        returns[k] = g\n",
    "\n",
    "    returns_t = torch.FloatTensor(returns).to(device)\n",
    "    advantage_t = (returns_t - predicted_state_v).detach()\n",
    "\n",
    "    logits = actor_model(states_t)\n",
    "    log_prob = F.log_softmax(logits, dim=1)\n",
    "    J_actor = (advantage_t * log_prob[range(step_count), actions_t]).mean()\n",
    "\n",
    "    # entropy\n",
    "    prob = F.softmax(logits, dim=1)\n",
    "    entropy = -(prob * log_prob).sum(dim=1).mean()\n",
    "\n",
    "    L_actor = -J_actor - entropy * 0.1\n",
    " \n",
    "\n",
    "    # < minimize loss by gradient descent >\n",
    "    optimizer_actor.zero_grad()\n",
    "    L_actor.backward()\n",
    "    #for param in pg_model.parameters():\n",
    "    #    param.grad.data.clamp_(-1, 1)\n",
    "    optimizer_actor.step()\n",
    "\n",
    "    \n",
    "    \n",
    "    loss_history.append(L_actor.cpu().data.numpy())\n",
    "    critic_loss_history.append(L_critic.cpu().data.numpy())\n",
    "    entropy_history.append(entropy.cpu().data.numpy())\n",
    "    baseline_history.append(predicted_state_v.mean().cpu().data.numpy())\n",
    "    steps_history.append(step_count)\n",
    "    if i % 10 == 0:\n",
    "        \n",
    "        mean_rw_history.append(evaluate(eval_env, agent, n_games=5))\n",
    "        \n",
    "        if mean_rw_history[-1] > 200:\n",
    "            print(\"Reach the target score 200 of 5 games\")\n",
    "            break\n",
    "        \n",
    "        clear_output(True)\n",
    "        plt.figure(figsize=[12, 12])        \n",
    "        plt.subplot(3,2,1)\n",
    "        plt.title(\"mean reward per game\")\n",
    "        plt.plot(mean_rw_history)\n",
    "        plt.grid()\n",
    "\n",
    "        plt.subplot(3,2,2)\n",
    "        plt.title(\"Loss history\")\n",
    "        plt.plot(loss_history)\n",
    "        plt.grid()\n",
    "    \n",
    "        \n",
    "        plt.subplot(3,2,3)\n",
    "        plt.title(\"Entropy\")\n",
    "        plt.plot(entropy_history)\n",
    "        plt.grid()\n",
    "        \n",
    "        plt.subplot(3,2,4)\n",
    "        plt.title(\"Average steps\")\n",
    "        plt.plot(steps_history)\n",
    "        plt.grid()\n",
    "        \n",
    "        plt.subplot(3,2,5)\n",
    "        plt.title(\"Critic Loss\")\n",
    "        plt.plot(critic_loss_history)\n",
    "        plt.grid()\n",
    "        \n",
    "        plt.subplot(3,2,6)\n",
    "        plt.title(\"Avg V\")\n",
    "        plt.plot(baseline_history)\n",
    "        plt.grid()\n",
    "        \n",
    "        plt.show()\n",
    "          \n",
    "        "
   ]
  },
  {
   "cell_type": "code",
   "execution_count": 118,
   "metadata": {},
   "outputs": [
    {
     "data": {
      "text/plain": [
       "-252.23528833858245"
      ]
     },
     "execution_count": 118,
     "metadata": {},
     "output_type": "execute_result"
    }
   ],
   "source": [
    "evaluate(eval_env, agent, n_games=1,render=True)"
   ]
  },
  {
   "cell_type": "code",
   "execution_count": 26,
   "metadata": {},
   "outputs": [],
   "source": [
    "envs = [gym.make(\"LunarLander-v2\") for _ in range(16)]"
   ]
  },
  {
   "cell_type": "code",
   "execution_count": null,
   "metadata": {},
   "outputs": [],
   "source": []
  }
 ],
 "metadata": {
  "anaconda-cloud": {},
  "kernelspec": {
   "display_name": "Python 3",
   "language": "python",
   "name": "python3"
  },
  "language_info": {
   "codemirror_mode": {
    "name": "ipython",
    "version": 3
   },
   "file_extension": ".py",
   "mimetype": "text/x-python",
   "name": "python",
   "nbconvert_exporter": "python",
   "pygments_lexer": "ipython3",
   "version": "3.6.5"
  }
 },
 "nbformat": 4,
 "nbformat_minor": 1
}
